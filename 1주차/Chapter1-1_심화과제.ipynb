{
  "cells": [
    {
      "cell_type": "markdown",
      "metadata": {
        "id": "OreetsmboeaH"
      },
      "source": [
        "#[1주차] 심화과제 ( MNIST 예측 모델에 deep learning techniques 적용하기 )\n",
        "( 학습 인자 n_epochs = 50, batch_size = 256 )"
      ]
    },
    {
      "cell_type": "markdown",
      "metadata": {
        "id": "OPJenlrhihrh"
      },
      "source": [
        "# CIFAR10 실습\n",
        "\n",
        "제일 먼저 사용할 library들을 import합니다."
      ]
    },
    {
      "cell_type": "code",
      "execution_count": null,
      "metadata": {
        "id": "6lXVfXoDtoQh"
      },
      "outputs": [],
      "source": [
        "import torch\n",
        "import torchvision\n",
        "import torchvision.transforms as transforms\n",
        "\n"
      ]
    },
    {
      "cell_type": "markdown",
      "metadata": {
        "id": "8gQIedmHrJo1"
      },
      "source": [
        "## DataSet 및 activation 함수 변경"
      ]
    },
    {
      "cell_type": "markdown",
      "metadata": {
        "id": "pF-1zQvmiult"
      },
      "source": [
        "다음은 dataset을 준비합니다. 이 dataset은 `torchvision`에서 제공하고 있으며, 다음과 같이 다운로드 받을 수 있습니다.\n",
        "\n",
        "### ( dataSets을 MNIST -> CIFAR10으로 변경 )"
      ]
    },
    {
      "cell_type": "code",
      "execution_count": null,
      "metadata": {
        "colab": {
          "base_uri": "https://localhost:8080/"
        },
        "id": "KAYlqPaRt6ti",
        "outputId": "25dd51b1-bcdb-41b7-ecdf-64817368bad0"
      },
      "outputs": [
        {
          "name": "stdout",
          "output_type": "stream",
          "text": [
            "Downloading https://www.cs.toronto.edu/~kriz/cifar-10-python.tar.gz to ./data/cifar-10-python.tar.gz\n"
          ]
        },
        {
          "name": "stderr",
          "output_type": "stream",
          "text": [
            "100%|██████████| 170498071/170498071 [00:05<00:00, 33372220.94it/s]\n"
          ]
        },
        {
          "name": "stdout",
          "output_type": "stream",
          "text": [
            "Extracting ./data/cifar-10-python.tar.gz to ./data\n",
            "Downloading https://www.cs.toronto.edu/~kriz/cifar-10-python.tar.gz to ./Testdata/cifar-10-python.tar.gz\n"
          ]
        },
        {
          "name": "stderr",
          "output_type": "stream",
          "text": [
            "100%|██████████| 170498071/170498071 [00:03<00:00, 47103088.70it/s]\n"
          ]
        },
        {
          "name": "stdout",
          "output_type": "stream",
          "text": [
            "Extracting ./Testdata/cifar-10-python.tar.gz to ./Testdata\n"
          ]
        }
      ],
      "source": [
        "transform = transforms.ToTensor()\n",
        "\n",
        "trainset = torchvision.datasets.CIFAR10(\n",
        "    root='./data',\n",
        "    train=True,\n",
        "    download=True,\n",
        "    transform=transform\n",
        ")\n",
        "\n",
        "transform = transforms.ToTensor()\n",
        "testset = torchvision.datasets.CIFAR10(\n",
        "    root='./Testdata',\n",
        "    train=False,\n",
        "    download=True,\n",
        "    transform=transform\n",
        ")"
      ]
    },
    {
      "cell_type": "markdown",
      "metadata": {
        "id": "NLRNCwQ3IM7z"
      },
      "source": [
        "trainset 데이터가 잘 다운 됬는지 확인 하기 위해서 한개 표시"
      ]
    },
    {
      "cell_type": "code",
      "execution_count": null,
      "metadata": {
        "colab": {
          "base_uri": "https://localhost:8080/",
          "height": 449
        },
        "id": "Zsp3sHmojyhT",
        "outputId": "da3120a2-cf09-431e-ddac-1dcba013f7a0"
      },
      "outputs": [
        {
          "data": {
            "text/plain": [
              "<matplotlib.image.AxesImage at 0x7b4f2f462ad0>"
            ]
          },
          "execution_count": 3,
          "metadata": {},
          "output_type": "execute_result"
        },
        {
          "data": {
            "image/png": "[encoded data removed]",
            "text/plain": [
              "<Figure size 640x480 with 1 Axes>"
            ]
          },
          "metadata": {},
          "output_type": "display_data"
        }
      ],
      "source": [
        "from matplotlib import pyplot as plt\n",
        "\n",
        "\n",
        "#1 번째 데이터 그림 확인\n",
        "img, _ = trainset[0]\n",
        "\n",
        "# 텐서를 numpy 배열로 변환하고 차원 순서 변경\n",
        "img = img.numpy().transpose((1, 2, 0))\n",
        "plt.imshow(img)"
      ]
    },
    {
      "cell_type": "markdown",
      "metadata": {
        "id": "NiU3AzENPFdj"
      },
      "source": [
        "testset 데이터가 잘 다운 됬는지 확인 하기 위해서 한개 표시"
      ]
    },
    {
      "cell_type": "code",
      "execution_count": null,
      "metadata": {
        "colab": {
          "base_uri": "https://localhost:8080/",
          "height": 449
        },
        "id": "wJNmjDtsTHzk",
        "outputId": "b8859178-5e38-4445-f385-1f502cf629ed"
      },
      "outputs": [
        {
          "data": {
            "text/plain": [
              "<matplotlib.image.AxesImage at 0x7b4f2f3768c0>"
            ]
          },
          "execution_count": 4,
          "metadata": {},
          "output_type": "execute_result"
        },
        {
          "data": {
            "image/png": "[encoded data removed]",
            "text/plain": [
              "<Figure size 640x480 with 1 Axes>"
            ]
          },
          "metadata": {},
          "output_type": "display_data"
        }
      ],
      "source": [
        "#TestData 잘 가져왔는지 확인\n",
        "from matplotlib import pyplot as plt\n",
        "\n",
        "#1 번째 데이터 그림 확인\n",
        "img, _ = testset[0]\n",
        "\n",
        "# 텐서를 numpy 배열로 변환하고 차원 순서 변경\n",
        "img = img.numpy().transpose((1, 2, 0))\n",
        "plt.imshow(img)"
      ]
    },
    {
      "cell_type": "markdown",
      "metadata": {
        "id": "dGezg0V9ThiO"
      },
      "source": [
        "### nn.ReLU -> nn.LeakyReLU 적용하기"
      ]
    },
    {
      "cell_type": "markdown",
      "metadata": {
        "id": "e4UJf5X1MdcE"
      },
      "source": [
        "nn.ReLU -> nn.LeakyReLU 으로 변경해서 나오도록 해서 3-layer MLP를 구현합니다."
      ]
    },
    {
      "cell_type": "code",
      "execution_count": null,
      "metadata": {
        "id": "BhQzST7nE9L0"
      },
      "outputs": [],
      "source": [
        "from torch import nn\n",
        "\n",
        "\n",
        "class Model(nn.Module):\n",
        "  def __init__(self, input_dim, n_dim):\n",
        "    super().__init__()\n",
        "\n",
        "    self.layer1 = nn.Linear(input_dim, n_dim)\n",
        "    self.layer2 = nn.Linear(n_dim, n_dim)\n",
        "    self.layer3 = nn.Linear(n_dim, 10)\n",
        "\n",
        "    self.act = nn.LeakyReLU()\n",
        "\n",
        "  def forward(self, x):\n",
        "    x = torch.flatten(x, start_dim=1)\n",
        "    x = self.act(self.layer1(x))\n",
        "    x = self.act(self.layer2(x))\n",
        "    x = self.act(self.layer3(x))\n",
        "\n",
        "    return x\n",
        "\n"
      ]
    },
    {
      "cell_type": "markdown",
      "metadata": {
        "id": "oWMyMqu3q1LA"
      },
      "source": [
        "### 학습 인자 n_epoch = 50, batch_size = 256으로 지정"
      ]
    },
    {
      "cell_type": "code",
      "execution_count": null,
      "metadata": {
        "id": "LTXDZ4kBq1sn"
      },
      "outputs": [],
      "source": [
        "#학습 인자 적용\n",
        "n_epochs = 50\n",
        "batch_size = 256"
      ]
    },
    {
      "cell_type": "markdown",
      "metadata": {
        "id": "SqxcxzBCr4SL"
      },
      "source": [
        "적용한 batch_size로 데이터 loader 생성"
      ]
    },
    {
      "cell_type": "code",
      "execution_count": null,
      "metadata": {
        "id": "Ziu5uwI8r3WJ"
      },
      "outputs": [],
      "source": [
        "trainloader = torch.utils.data.DataLoader(\n",
        "    trainset,\n",
        "    batch_size=batch_size,\n",
        "    shuffle=True\n",
        ")\n",
        "\n",
        "\n",
        "testloader = torch.utils.data.DataLoader(\n",
        "    testset,\n",
        "    batch_size=batch_size,\n",
        "    shuffle=False\n",
        ")\n"
      ]
    },
    {
      "cell_type": "markdown",
      "metadata": {
        "id": "jMQeIdm6OR9w"
      },
      "source": [
        "DataLoader로 batch가 잘 나누어 졌는지 확인을 위해서 첫 번째 batch를 출력한 모습입니다."
      ]
    },
    {
      "cell_type": "code",
      "execution_count": null,
      "metadata": {
        "colab": {
          "base_uri": "https://localhost:8080/"
        },
        "id": "NE8ged7oNisS",
        "outputId": "2efa2330-599f-46d2-87be-4568696232ff"
      },
      "outputs": [
        {
          "name": "stdout",
          "output_type": "stream",
          "text": [
            "trainloader\n",
            "torch.Size([256, 3, 32, 32]) torch.Size([256])\n",
            "testloader\n",
            "torch.Size([256, 3, 32, 32]) torch.Size([256])\n"
          ]
        }
      ],
      "source": [
        "print(\"trainloader\")\n",
        "dataiter = iter(trainloader)\n",
        "images, labels = next(dataiter)\n",
        "print(images.shape, labels.shape)\n",
        "\n",
        "print(\"testloader\")\n",
        "dataiter = iter(testloader)\n",
        "images, labels = next(dataiter)\n",
        "print(images.shape, labels.shape)"
      ]
    },
    {
      "cell_type": "markdown",
      "metadata": {
        "id": "eeZNlX_yojT3"
      },
      "source": [
        "##CIFAR10의 입력 shape 확인"
      ]
    },
    {
      "cell_type": "markdown",
      "metadata": {
        "id": "O25alqMvO2cH"
      },
      "source": [
        "### CIFAR10은 MNIST와 다른 입력의 shape를 가지고 있기에 확인을 위한 코드"
      ]
    },
    {
      "cell_type": "code",
      "execution_count": null,
      "metadata": {
        "colab": {
          "base_uri": "https://localhost:8080/"
        },
        "id": "l6WecuoAojFr",
        "outputId": "63651c8a-e560-4b30-948e-3ef95c0d3e57"
      },
      "outputs": [
        {
          "name": "stdout",
          "output_type": "stream",
          "text": [
            "torch.Size([3, 32, 32])\n"
          ]
        }
      ],
      "source": [
        "#trainSet 데이터의 첫번째 shape 확인\n",
        "print(trainset[0][0].shape)"
      ]
    },
    {
      "cell_type": "markdown",
      "metadata": {
        "id": "s43XYquDqDxK"
      },
      "source": [
        "첫 번쨰 shape의 image인 (3, 32, 32) 를 입력받아 모델을 생성"
      ]
    },
    {
      "cell_type": "code",
      "execution_count": null,
      "metadata": {
        "id": "B36pWN2suI4-"
      },
      "outputs": [],
      "source": [
        "model = Model(3 * 32 * 32, 1024)"
      ]
    },
    {
      "cell_type": "markdown",
      "metadata": {
        "id": "AUZw3_OZuW9L"
      },
      "source": [
        "##SGD와 Adam 성능 비교"
      ]
    },
    {
      "cell_type": "markdown",
      "metadata": {
        "id": "ZoRzRbq4vlDK"
      },
      "source": [
        "### epoch에 대한 train 정확도를 plot하기 위해서 정확도를 구하는 공통 함수"
      ]
    },
    {
      "cell_type": "code",
      "execution_count": null,
      "metadata": {
        "id": "dmN6ruMGv3Qt"
      },
      "outputs": [],
      "source": [
        "#dataloader에 대한 model의 정확도를 측정하는 코드\n",
        "def accuracy(model, dataloader):\n",
        "  cnt = 0\n",
        "  acc = 0\n",
        "\n",
        "  for data in dataloader:\n",
        "    inputs, labels = data\n",
        "    inputs, labels = inputs.to('cuda'), labels.to('cuda')\n",
        "\n",
        "    preds = model(inputs)\n",
        "    preds = torch.argmax(preds, dim=-1)\n",
        "\n",
        "    cnt += labels.shape[0]\n",
        "    acc += (labels == preds).sum().item()\n",
        "\n",
        "  return acc / cnt"
      ]
    },
    {
      "cell_type": "markdown",
      "metadata": {
        "id": "sUcaVlh4vJu0"
      },
      "source": [
        "### 먼저 Adam Optimizer을 사용하여 학습 구현"
      ]
    },
    {
      "cell_type": "code",
      "execution_count": null,
      "metadata": {
        "id": "8_Yx58oTvJBV"
      },
      "outputs": [],
      "source": [
        "from torch.optim import Adam\n",
        "\n",
        "lr = 0.001\n",
        "model = model.to('cuda')\n",
        "optimizer = Adam(model.parameters(), lr=lr)"
      ]
    },
    {
      "cell_type": "markdown",
      "metadata": {
        "id": "7Xh-OzDpwPYt"
      },
      "source": [
        "### 기존에 학습 코드를 응용해서 model의 trainloader의 정확도를 저장하는 코드 추가"
      ]
    },
    {
      "cell_type": "code",
      "execution_count": null,
      "metadata": {
        "colab": {
          "base_uri": "https://localhost:8080/"
        },
        "id": "1JyiKf8gvely",
        "outputId": "5fce1d5d-e0fe-423a-dc94-51ffc91021ca"
      },
      "outputs": [
        {
          "name": "stdout",
          "output_type": "stream",
          "text": [
            "Epoch   0 | Loss: 430.54958033561707\n",
            "Epoch   1 | Loss: 389.8720449209213\n",
            "Epoch   2 | Loss: 366.4835420846939\n",
            "Epoch   3 | Loss: 350.90304958820343\n",
            "Epoch   4 | Loss: 338.3160767555237\n",
            "Epoch   5 | Loss: 329.425167798996\n",
            "Epoch   6 | Loss: 320.3395127058029\n",
            "Epoch   7 | Loss: 314.5252549648285\n",
            "Epoch   8 | Loss: 307.5244308710098\n",
            "Epoch   9 | Loss: 300.2814381122589\n",
            "Epoch  10 | Loss: 295.0998001098633\n",
            "Epoch  11 | Loss: 291.58957409858704\n",
            "Epoch  12 | Loss: 285.53436279296875\n",
            "Epoch  13 | Loss: 282.55253314971924\n",
            "Epoch  14 | Loss: 278.08868527412415\n",
            "Epoch  15 | Loss: 272.96827244758606\n",
            "Epoch  16 | Loss: 269.59737396240234\n",
            "Epoch  17 | Loss: 266.0096501111984\n",
            "Epoch  18 | Loss: 262.87337160110474\n",
            "Epoch  19 | Loss: 260.8621469736099\n",
            "Epoch  20 | Loss: 256.07554030418396\n",
            "Epoch  21 | Loss: 254.50947999954224\n",
            "Epoch  22 | Loss: 249.19000673294067\n",
            "Epoch  23 | Loss: 246.39377748966217\n",
            "Epoch  24 | Loss: 245.39722621440887\n",
            "Epoch  25 | Loss: 240.0041755437851\n",
            "Epoch  26 | Loss: 237.20726191997528\n",
            "Epoch  27 | Loss: 233.5781443119049\n",
            "Epoch  28 | Loss: 233.23007237911224\n",
            "Epoch  29 | Loss: 228.07019793987274\n",
            "Epoch  30 | Loss: 224.62271094322205\n",
            "Epoch  31 | Loss: 221.57879608869553\n",
            "Epoch  32 | Loss: 218.61357188224792\n",
            "Epoch  33 | Loss: 217.8145790696144\n",
            "Epoch  34 | Loss: 214.75395506620407\n",
            "Epoch  35 | Loss: 209.77734750509262\n",
            "Epoch  36 | Loss: 207.87794888019562\n",
            "Epoch  37 | Loss: 204.60049986839294\n",
            "Epoch  38 | Loss: 200.92387622594833\n",
            "Epoch  39 | Loss: 197.62858033180237\n",
            "Epoch  40 | Loss: 202.10550022125244\n",
            "Epoch  41 | Loss: 192.11533051729202\n",
            "Epoch  42 | Loss: 188.57943332195282\n",
            "Epoch  43 | Loss: 186.22151029109955\n",
            "Epoch  44 | Loss: 185.07277435064316\n",
            "Epoch  45 | Loss: 180.39928209781647\n",
            "Epoch  46 | Loss: 180.47841906547546\n",
            "Epoch  47 | Loss: 174.46422165632248\n",
            "Epoch  48 | Loss: 171.27346235513687\n",
            "Epoch  49 | Loss: 179.6296762228012\n"
          ]
        }
      ],
      "source": [
        "#기존에 학습 코드를 응용해서 adam을 사용한 model의 trainloader의  정확도를 저장하는 코드 추가\n",
        "criterion = nn.CrossEntropyLoss()\n",
        "adam_trainloader_acc = []\n",
        "\n",
        "for epoch in range(n_epochs):\n",
        "  total_loss = 0.\n",
        "  for data in trainloader:\n",
        "    model.zero_grad()\n",
        "    inputs, labels = data\n",
        "\n",
        "    inputs, labels = inputs.to('cuda'), labels.to('cuda')\n",
        "\n",
        "    preds = model(inputs)\n",
        "\n",
        "    loss = criterion(preds, labels)\n",
        "    loss.backward()\n",
        "    optimizer.step()\n",
        "\n",
        "    total_loss += loss.item()\n",
        "\n",
        "  adam_trainloader_acc.append(accuracy(model, trainloader))\n",
        "\n",
        "  print(f\"Epoch {epoch:3d} | Loss: {total_loss}\")"
      ]
    },
    {
      "cell_type": "markdown",
      "metadata": {
        "id": "-l0txkOnMTGY"
      },
      "source": [
        "###다음으로 SGD를 수행해줄 optimizer를 구현하는 모습입니다.\n",
        "기존 학습과 동일한 환경에서 학습 하기 위한 model 새로 생성 ( model 초기화 )"
      ]
    },
    {
      "cell_type": "code",
      "execution_count": null,
      "metadata": {
        "id": "314FnIWsMAHd"
      },
      "outputs": [],
      "source": [
        "from torch.optim import SGD\n",
        "\n",
        "model = Model(3 * 32 * 32, 1024) # 모델 초기화\n",
        "\n",
        "lr = 0.001\n",
        "model = model.to('cuda')\n",
        "\n",
        "optimizer = SGD(model.parameters(), lr=lr)"
      ]
    },
    {
      "cell_type": "markdown",
      "metadata": {
        "id": "_JD7hUJOMnfj"
      },
      "source": [
        "nn.CrossEntropyLoss()를 사용하여 학습하는 코드입니다."
      ]
    },
    {
      "cell_type": "code",
      "execution_count": null,
      "metadata": {
        "colab": {
          "base_uri": "https://localhost:8080/"
        },
        "id": "1y-U29tVTgWP",
        "outputId": "9fa2cac1-caeb-42c1-d91e-36ba7c199117"
      },
      "outputs": [
        {
          "name": "stdout",
          "output_type": "stream",
          "text": [
            "Epoch   0 | Loss: 450.7454562187195\n",
            "Epoch   1 | Loss: 449.4147140979767\n",
            "Epoch   2 | Loss: 448.3009135723114\n",
            "Epoch   3 | Loss: 447.26157236099243\n",
            "Epoch   4 | Loss: 446.242880821228\n",
            "Epoch   5 | Loss: 445.23557019233704\n",
            "Epoch   6 | Loss: 444.1847071647644\n",
            "Epoch   7 | Loss: 443.16575264930725\n",
            "Epoch   8 | Loss: 442.0975649356842\n",
            "Epoch   9 | Loss: 441.04644751548767\n",
            "Epoch  10 | Loss: 439.9835743904114\n",
            "Epoch  11 | Loss: 438.90959763526917\n",
            "Epoch  12 | Loss: 437.6250579357147\n",
            "Epoch  13 | Loss: 436.32692217826843\n",
            "Epoch  14 | Loss: 435.03915786743164\n",
            "Epoch  15 | Loss: 433.79990339279175\n",
            "Epoch  16 | Loss: 432.5310056209564\n",
            "Epoch  17 | Loss: 431.31097865104675\n",
            "Epoch  18 | Loss: 430.1649513244629\n",
            "Epoch  19 | Loss: 429.0515594482422\n",
            "Epoch  20 | Loss: 427.9167833328247\n",
            "Epoch  21 | Loss: 426.8753228187561\n",
            "Epoch  22 | Loss: 425.76511454582214\n",
            "Epoch  23 | Loss: 424.79633951187134\n",
            "Epoch  24 | Loss: 423.8444995880127\n",
            "Epoch  25 | Loss: 422.89180850982666\n",
            "Epoch  26 | Loss: 421.9740643501282\n",
            "Epoch  27 | Loss: 421.1863558292389\n",
            "Epoch  28 | Loss: 420.2367961406708\n",
            "Epoch  29 | Loss: 419.4148898124695\n",
            "Epoch  30 | Loss: 418.5860073566437\n",
            "Epoch  31 | Loss: 417.7297489643097\n",
            "Epoch  32 | Loss: 415.872029542923\n",
            "Epoch  33 | Loss: 413.7929005622864\n",
            "Epoch  34 | Loss: 412.3699905872345\n",
            "Epoch  35 | Loss: 411.0519096851349\n",
            "Epoch  36 | Loss: 409.72383737564087\n",
            "Epoch  37 | Loss: 408.49239015579224\n",
            "Epoch  38 | Loss: 407.35838317871094\n",
            "Epoch  39 | Loss: 406.26723289489746\n",
            "Epoch  40 | Loss: 405.2416549921036\n",
            "Epoch  41 | Loss: 404.20079612731934\n",
            "Epoch  42 | Loss: 403.2091611623764\n",
            "Epoch  43 | Loss: 402.3199979066849\n",
            "Epoch  44 | Loss: 401.3484374284744\n",
            "Epoch  45 | Loss: 400.4832284450531\n",
            "Epoch  46 | Loss: 399.58634400367737\n",
            "Epoch  47 | Loss: 398.63135409355164\n",
            "Epoch  48 | Loss: 397.9617908000946\n",
            "Epoch  49 | Loss: 397.1225484609604\n"
          ]
        }
      ],
      "source": [
        "#기존에 학습 코드를 응용해서 sgd을 사용한 model의 trainloader의  정확도를 저장하는 코드 추가\n",
        "criterion = nn.CrossEntropyLoss()\n",
        "sgd_trainloader_acc = []\n",
        "for epoch in range(n_epochs):\n",
        "  total_loss = 0.\n",
        "  for data in trainloader:\n",
        "    model.zero_grad()\n",
        "    inputs, labels = data\n",
        "    inputs, labels = inputs.to('cuda'), labels.to('cuda')\n",
        "\n",
        "    preds = model(inputs)\n",
        "\n",
        "    loss = criterion(preds, labels)\n",
        "    loss.backward()\n",
        "    optimizer.step()\n",
        "\n",
        "    total_loss += loss.item()\n",
        "  sgd_trainloader_acc.append(accuracy(model, trainloader))\n",
        "  print(f\"Epoch {epoch:3d} | Loss: {total_loss}\")"
      ]
    },
    {
      "cell_type": "markdown",
      "metadata": {
        "id": "opkEe-QDdXl-"
      },
      "source": [
        "SGD와 Adam optimizer의 Epoch에 따른 train과 대한 model의 정확도를 시각화 하는 코드입니다."
      ]
    },
    {
      "cell_type": "code",
      "execution_count": null,
      "metadata": {
        "colab": {
          "base_uri": "https://localhost:8080/",
          "height": 430
        },
        "id": "5Q98oMclX32R",
        "outputId": "091f1627-90b0-4e29-fbe9-c54a8d15ac07"
      },
      "outputs": [
        {
          "data": {
            "image/png": "[encoded data removed]",
            "text/plain": [
              "<Figure size 640x480 with 1 Axes>"
            ]
          },
          "metadata": {},
          "output_type": "display_data"
        }
      ],
      "source": [
        "import numpy as np\n",
        "#Epoch에 따른 SGD와 Adam optimizer의 trainSet에 대한 model의 정확도를 다음 코드를 사용하여 plot하는 함수\n",
        "def plot_acc(sgd_accs, adam_accs, label1='SGD', label2='Adam'):\n",
        "  x = np.arange(len(sgd_accs))\n",
        "\n",
        "  plt.plot(x, sgd_accs, label=label1)\n",
        "  plt.plot(x, adam_accs, label=label2)\n",
        "  plt.legend()\n",
        "  plt.show()\n",
        "\n",
        "# plot하는 함수 사용\n",
        "plot_acc(sgd_trainloader_acc, adam_trainloader_acc)"
      ]
    },
    {
      "cell_type": "markdown",
      "metadata": {
        "id": "6XmZgbkNMuuv"
      },
      "source": [
        "위의 plot를 보면 sgd 보다 adam optimizer가 epoch에 따른 모델 정확도가 더 좋은 걸 볼 수 있다."
      ]
    },
    {
      "cell_type": "markdown",
      "metadata": {
        "id": "RZ9Z_ybYnsTJ"
      },
      "source": [
        "## Leaky ReLU와 Sigmoid 성능 비교"
      ]
    },
    {
      "cell_type": "markdown",
      "metadata": {
        "id": "AYQJ8CReyEh2"
      },
      "source": [
        "### Activation 함수가 nn.Sigmoid인 class 생성"
      ]
    },
    {
      "cell_type": "code",
      "execution_count": null,
      "metadata": {
        "id": "FSOCtOqzx9DK"
      },
      "outputs": [],
      "source": [
        "class Model(nn.Module):\n",
        "  def __init__(self, input_dim, n_dim):\n",
        "    super().__init__()\n",
        "\n",
        "    self.layer1 = nn.Linear(input_dim, n_dim)\n",
        "    self.layer2 = nn.Linear(n_dim, n_dim)\n",
        "    self.layer3 = nn.Linear(n_dim, 10)\n",
        "\n",
        "    self.act = nn.Sigmoid()\n",
        "\n",
        "  def forward(self, x):\n",
        "    x = torch.flatten(x, start_dim=1)\n",
        "    x = self.act(self.layer1(x))\n",
        "    x = self.act(self.layer2(x))\n",
        "    x = self.act(self.layer3(x))\n",
        "\n",
        "    return x\n"
      ]
    },
    {
      "cell_type": "markdown",
      "metadata": {
        "id": "FE40j26VyZR3"
      },
      "source": [
        "### nn.Sigmoid로 변경한 모델 (class)로 학습"
      ]
    },
    {
      "cell_type": "markdown",
      "metadata": {
        "id": "mRa8uMw5y2qJ"
      },
      "source": [
        "바뀐 모델로 모델 생성"
      ]
    },
    {
      "cell_type": "code",
      "execution_count": null,
      "metadata": {
        "id": "YfMcGfjPy0nV"
      },
      "outputs": [],
      "source": [
        "model = Model(3 * 32 * 32, 1024)"
      ]
    },
    {
      "cell_type": "markdown",
      "metadata": {
        "id": "UmoYdDoUzB4c"
      },
      "source": [
        "Adam optimizer 적용"
      ]
    },
    {
      "cell_type": "code",
      "execution_count": null,
      "metadata": {
        "id": "OfrJHU87ygEF"
      },
      "outputs": [],
      "source": [
        "lr = 0.001\n",
        "model = model.to('cuda')\n",
        "optimizer = Adam(model.parameters(), lr=lr)"
      ]
    },
    {
      "cell_type": "markdown",
      "metadata": {
        "id": "6A9yh2jqzIND"
      },
      "source": [
        "기존의 코드를 응용하여 학습하는 코드입니다."
      ]
    },
    {
      "cell_type": "code",
      "execution_count": null,
      "metadata": {
        "colab": {
          "base_uri": "https://localhost:8080/"
        },
        "id": "c0nzaSklzLwi",
        "outputId": "36a61749-7361-4137-c538-19b4e632e2db"
      },
      "outputs": [
        {
          "name": "stdout",
          "output_type": "stream",
          "text": [
            "Epoch   0 | Loss: 411.41218161582947\n",
            "Epoch   1 | Loss: 394.50235307216644\n",
            "Epoch   2 | Loss: 387.6060059070587\n",
            "Epoch   3 | Loss: 383.8191468715668\n",
            "Epoch   4 | Loss: 381.04501807689667\n",
            "Epoch   5 | Loss: 379.2715208530426\n",
            "Epoch   6 | Loss: 377.00940692424774\n",
            "Epoch   7 | Loss: 375.7851345539093\n",
            "Epoch   8 | Loss: 374.0293517112732\n",
            "Epoch   9 | Loss: 371.80869567394257\n",
            "Epoch  10 | Loss: 371.36584770679474\n",
            "Epoch  11 | Loss: 370.30115020275116\n",
            "Epoch  12 | Loss: 369.39571464061737\n",
            "Epoch  13 | Loss: 368.32121562957764\n",
            "Epoch  14 | Loss: 368.0929162502289\n",
            "Epoch  15 | Loss: 366.6183830499649\n",
            "Epoch  16 | Loss: 366.32941150665283\n",
            "Epoch  17 | Loss: 365.1817364692688\n",
            "Epoch  18 | Loss: 364.4475910663605\n",
            "Epoch  19 | Loss: 363.5531495809555\n",
            "Epoch  20 | Loss: 363.333202958107\n",
            "Epoch  21 | Loss: 362.5406025648117\n",
            "Epoch  22 | Loss: 362.0526833534241\n",
            "Epoch  23 | Loss: 361.33634901046753\n",
            "Epoch  24 | Loss: 361.2069319486618\n",
            "Epoch  25 | Loss: 360.13078451156616\n",
            "Epoch  26 | Loss: 359.6030111312866\n",
            "Epoch  27 | Loss: 360.1176880598068\n",
            "Epoch  28 | Loss: 360.0320316553116\n",
            "Epoch  29 | Loss: 358.7231914997101\n",
            "Epoch  30 | Loss: 357.81359326839447\n",
            "Epoch  31 | Loss: 358.43367528915405\n",
            "Epoch  32 | Loss: 357.4196915626526\n",
            "Epoch  33 | Loss: 357.0251033306122\n",
            "Epoch  34 | Loss: 356.113138794899\n",
            "Epoch  35 | Loss: 356.28703582286835\n",
            "Epoch  36 | Loss: 356.1095081567764\n",
            "Epoch  37 | Loss: 355.36435425281525\n",
            "Epoch  38 | Loss: 354.8658938407898\n",
            "Epoch  39 | Loss: 353.89040744304657\n",
            "Epoch  40 | Loss: 354.58891248703003\n",
            "Epoch  41 | Loss: 353.9255360364914\n",
            "Epoch  42 | Loss: 353.7419650554657\n",
            "Epoch  43 | Loss: 352.9541794061661\n",
            "Epoch  44 | Loss: 352.55637204647064\n",
            "Epoch  45 | Loss: 352.7138788700104\n",
            "Epoch  46 | Loss: 352.15076100826263\n",
            "Epoch  47 | Loss: 351.78197288513184\n",
            "Epoch  48 | Loss: 351.3179843425751\n",
            "Epoch  49 | Loss: 350.7772709131241\n"
          ]
        }
      ],
      "source": [
        "#기존에 학습 코드를 응용해서 adam을 사용한 model의 trainloader를 정확도를 저장하는 코드 추가\n",
        "criterion = nn.CrossEntropyLoss()\n",
        "adam_sigmoid_trainloader_acc = []\n",
        "\n",
        "for epoch in range(n_epochs):\n",
        "  total_loss = 0.\n",
        "  for data in trainloader:\n",
        "    model.zero_grad()\n",
        "    inputs, labels = data\n",
        "\n",
        "    inputs, labels = inputs.to('cuda'), labels.to('cuda')\n",
        "\n",
        "    preds = model(inputs)\n",
        "\n",
        "    loss = criterion(preds, labels)\n",
        "    loss.backward()\n",
        "    optimizer.step()\n",
        "\n",
        "    total_loss += loss.item()\n",
        "\n",
        "  adam_sigmoid_trainloader_acc.append(accuracy(model, trainloader))\n",
        "\n",
        "  print(f\"Epoch {epoch:3d} | Loss: {total_loss}\")"
      ]
    },
    {
      "cell_type": "markdown",
      "metadata": {
        "id": "T-X_e9pp0b-w"
      },
      "source": [
        "### Adam optimizer를 가지고 sigmoid와 leaky ReLU 모델의 epoch에 따른 train 정확도 비교"
      ]
    },
    {
      "cell_type": "code",
      "execution_count": null,
      "metadata": {
        "colab": {
          "base_uri": "https://localhost:8080/",
          "height": 430
        },
        "id": "UI0kbXH70kya",
        "outputId": "6dd9d7aa-5843-4563-c68e-f045868b8f57"
      },
      "outputs": [
        {
          "data": {
            "image/png": "[encoded data removed]",
            "text/plain": [
              "<Figure size 640x480 with 1 Axes>"
            ]
          },
          "metadata": {},
          "output_type": "display_data"
        }
      ],
      "source": [
        "import numpy as np\n",
        "#Epoch에 따른 SGD와 Adam optimizer의 trainSet에 대한 model의 정확도를 다음 코드를 사용하여 plot하는 함수\n",
        "def plot_acc(adam_sigmoid, adam_accs, label1='sigmoid', label2='leaky ReLU'):\n",
        "  x = np.arange(len(adam_sigmoid))\n",
        "\n",
        "  plt.plot(x, adam_sigmoid, label=label1)\n",
        "  plt.plot(x, adam_accs, label=label2)\n",
        "  plt.legend()\n",
        "  plt.show()\n",
        "\n",
        "# plot하는 함수 사용\n",
        "plot_acc(adam_sigmoid_trainloader_acc, adam_trainloader_acc)"
      ]
    },
    {
      "cell_type": "markdown",
      "metadata": {
        "id": "t3sx_8RmM8hD"
      },
      "source": [
        "activation function을 sigmoid보다 leaky ReLU가 더 좋은 성능을 보이고 있다."
      ]
    },
    {
      "cell_type": "markdown",
      "metadata": {
        "id": "LYWLBs0408Km"
      },
      "source": [
        "## Dropout을 적용한 이후의 generalization error 확인"
      ]
    },
    {
      "cell_type": "markdown",
      "metadata": {
        "id": "sYMXywmB1F6q"
      },
      "source": [
        "### leaky ReLU를 사용하는 MLP의 모든 layer에 dropout 적용한 class 생성\n",
        "( Dropout 확률은 0.1 )"
      ]
    },
    {
      "cell_type": "code",
      "execution_count": null,
      "metadata": {
        "id": "-uOUBz7G1AKs"
      },
      "outputs": [],
      "source": [
        "class Model(nn.Module):\n",
        "  def __init__(self, input_dim, n_dim):\n",
        "    super().__init__()\n",
        "\n",
        "    self.layer1 = nn.Linear(input_dim, n_dim)\n",
        "    self.layer2 = nn.Linear(n_dim, n_dim)\n",
        "    self.layer3 = nn.Linear(n_dim, 10)\n",
        "    self.dropout = nn.Dropout(0.1)  #dropout 적용을 위한 생성\n",
        "    self.act = nn.LeakyReLU()\n",
        "\n",
        "  def forward(self, x):\n",
        "    x = torch.flatten(x, start_dim=1)\n",
        "    x = self.dropout(self.act(self.layer1(x)))\n",
        "    x = self.dropout(self.act(self.layer2(x)))\n",
        "    x = self.dropout(self.act(self.layer3(x)))\n",
        "\n",
        "    return x\n"
      ]
    },
    {
      "cell_type": "markdown",
      "metadata": {
        "id": "SGN1z3od9ler"
      },
      "source": [
        "학습전 바꾼 모델로 생성 및 기존 Adam optimizer 사용"
      ]
    },
    {
      "cell_type": "code",
      "execution_count": null,
      "metadata": {
        "id": "TIGwAg889k5D"
      },
      "outputs": [],
      "source": [
        "model = Model(3 * 32 * 32, 1024) # 모델 생성\n",
        "\n",
        "lr = 0.001\n",
        "model = model.to('cuda')\n",
        "optimizer = Adam(model.parameters(), lr=lr)"
      ]
    },
    {
      "cell_type": "markdown",
      "metadata": {
        "id": "1z2sE7Rw3Fbx"
      },
      "source": [
        "### 정확도 계산하는 코드 변경"
      ]
    },
    {
      "cell_type": "code",
      "execution_count": null,
      "metadata": {
        "id": "vG_ZXTho3Kg1"
      },
      "outputs": [],
      "source": [
        "#dataloader에 대한 model의 정확도를 측정하는 코드\n",
        "def accuracy(model, dataloader):\n",
        "  with torch.no_grad():\n",
        "    model.eval()\n",
        "\n",
        "    cnt = 0\n",
        "    acc = 0\n",
        "\n",
        "    for data in dataloader:\n",
        "      inputs, labels = data\n",
        "      inputs, labels = inputs.to('cuda'), labels.to('cuda')\n",
        "\n",
        "      preds = model(inputs)\n",
        "      preds = torch.argmax(preds, dim=-1)\n",
        "\n",
        "      cnt += labels.shape[0]\n",
        "      acc += (labels == preds).sum().item()\n",
        "\n",
        "    return acc / cnt"
      ]
    },
    {
      "cell_type": "markdown",
      "metadata": {
        "id": "wa4OuJKs2GJo"
      },
      "source": [
        "### 학습 코드 생성\n",
        "( model.train() 코드 추가 )"
      ]
    },
    {
      "cell_type": "code",
      "execution_count": null,
      "metadata": {
        "colab": {
          "base_uri": "https://localhost:8080/"
        },
        "id": "Mo2Av9S-2FTn",
        "outputId": "e790d671-179d-42ab-c30f-6bd0f649cfec"
      },
      "outputs": [
        {
          "name": "stdout",
          "output_type": "stream",
          "text": [
            "Epoch   0 | Loss: 440.8133294582367\n",
            "Epoch   1 | Loss: 416.3627018928528\n",
            "Epoch   2 | Loss: 410.5926995277405\n",
            "Epoch   3 | Loss: 400.4940024614334\n",
            "Epoch   4 | Loss: 390.4269918203354\n",
            "Epoch   5 | Loss: 383.79779875278473\n",
            "Epoch   6 | Loss: 380.0767284631729\n",
            "Epoch   7 | Loss: 375.87277233600616\n",
            "Epoch   8 | Loss: 373.4476888179779\n",
            "Epoch   9 | Loss: 369.64390444755554\n",
            "Epoch  10 | Loss: 366.1148135662079\n",
            "Epoch  11 | Loss: 363.0757452249527\n",
            "Epoch  12 | Loss: 362.65052831172943\n",
            "Epoch  13 | Loss: 359.7587203979492\n",
            "Epoch  14 | Loss: 355.05201506614685\n",
            "Epoch  15 | Loss: 354.9527790546417\n",
            "Epoch  16 | Loss: 352.2606203556061\n",
            "Epoch  17 | Loss: 349.6910871267319\n",
            "Epoch  18 | Loss: 349.69375455379486\n",
            "Epoch  19 | Loss: 347.5736446380615\n",
            "Epoch  20 | Loss: 344.7159938812256\n",
            "Epoch  21 | Loss: 342.0428570508957\n",
            "Epoch  22 | Loss: 341.8069657087326\n",
            "Epoch  23 | Loss: 339.38850951194763\n",
            "Epoch  24 | Loss: 337.6765583753586\n",
            "Epoch  25 | Loss: 337.17439925670624\n",
            "Epoch  26 | Loss: 335.875253200531\n",
            "Epoch  27 | Loss: 333.80823254585266\n",
            "Epoch  28 | Loss: 332.74917471408844\n",
            "Epoch  29 | Loss: 331.45017540454865\n",
            "Epoch  30 | Loss: 329.9625210762024\n",
            "Epoch  31 | Loss: 327.1373220682144\n",
            "Epoch  32 | Loss: 327.20801854133606\n",
            "Epoch  33 | Loss: 326.8561428785324\n",
            "Epoch  34 | Loss: 325.39464259147644\n",
            "Epoch  35 | Loss: 321.93365120887756\n",
            "Epoch  36 | Loss: 320.5717748403549\n",
            "Epoch  37 | Loss: 322.84124541282654\n",
            "Epoch  38 | Loss: 320.6489336490631\n",
            "Epoch  39 | Loss: 319.09553956985474\n",
            "Epoch  40 | Loss: 317.09087681770325\n",
            "Epoch  41 | Loss: 317.55881571769714\n",
            "Epoch  42 | Loss: 316.5551247596741\n",
            "Epoch  43 | Loss: 314.3602933883667\n",
            "Epoch  44 | Loss: 312.6238851547241\n",
            "Epoch  45 | Loss: 312.55911695957184\n",
            "Epoch  46 | Loss: 311.56865882873535\n",
            "Epoch  47 | Loss: 309.74928855895996\n",
            "Epoch  48 | Loss: 311.9147001504898\n",
            "Epoch  49 | Loss: 307.96960973739624\n"
          ]
        }
      ],
      "source": [
        "#기존에 학습 코드를 응용해서 model의 trainloader와 testloader의 정확도를 저장하는 코드 추가\n",
        "criterion = nn.CrossEntropyLoss()\n",
        "trainloader_acc = []\n",
        "testloader_acc = []\n",
        "\n",
        "\n",
        "for epoch in range(n_epochs):\n",
        "  total_loss = 0.\n",
        "  model.train() #model.train() 코드 추가\n",
        "  for data in trainloader:\n",
        "    model.zero_grad()\n",
        "    inputs, labels = data\n",
        "\n",
        "    inputs, labels = inputs.to('cuda'), labels.to('cuda')\n",
        "\n",
        "    preds = model(inputs)\n",
        "\n",
        "    loss = criterion(preds, labels)\n",
        "    loss.backward()\n",
        "    optimizer.step()\n",
        "\n",
        "    total_loss += loss.item()\n",
        "\n",
        "  trainloader_acc.append(accuracy(model, trainloader))\n",
        "  testloader_acc.append(accuracy(model, testloader))\n",
        "\n",
        "  print(f\"Epoch {epoch:3d} | Loss: {total_loss}\")"
      ]
    },
    {
      "cell_type": "markdown",
      "metadata": {
        "id": "q9kvLDO82M55"
      },
      "source": [
        "## Adam optimizer의 dropout을 적용한 모델의 epoch에 따른 train과 test 정확도 비교 plot"
      ]
    },
    {
      "cell_type": "code",
      "execution_count": null,
      "metadata": {
        "colab": {
          "base_uri": "https://localhost:8080/",
          "height": 430
        },
        "id": "Vr1gEyka2MSE",
        "outputId": "f1afb930-8869-46f6-f74f-36038c14463e"
      },
      "outputs": [
        {
          "data": {
            "image/png": "[encoded data removed]",
            "text/plain": [
              "<Figure size 640x480 with 1 Axes>"
            ]
          },
          "metadata": {},
          "output_type": "display_data"
        }
      ],
      "source": [
        "import numpy as np\n",
        "#Epoch에 따른 SGD와 Adam optimizer의 trainSet에 대한 model의 정확도를 다음 코드를 사용하여 plot하는 함수\n",
        "def plot_acc(trainloader_acc, testloader_acc, label1='train', label2='test'):\n",
        "  x = np.arange(len(trainloader_acc))\n",
        "\n",
        "  plt.plot(x, trainloader_acc, label=label1)\n",
        "  plt.plot(x, testloader_acc, label=label2)\n",
        "  plt.legend()\n",
        "  plt.show()\n",
        "\n",
        "# plot하는 함수 사용\n",
        "plot_acc(trainloader_acc, testloader_acc)"
      ]
    },
    {
      "cell_type": "markdown",
      "metadata": {
        "id": "FEcm5gkUNsKx"
      },
      "source": [
        "Dropout을 적용으로 인해서 train데이터셋과 test데이터셋의 정확도가 비슷한 일반화가 잘되는 것으로 보인다"
      ]
    }
  ],
  "metadata": {
    "accelerator": "GPU",
    "colab": {
      "gpuType": "T4",
      "provenance": [],
      "toc_visible": true
    },
    "kernelspec": {
      "display_name": "Python 3",
      "name": "python3"
    },
    "language_info": {
      "name": "python"
    }
  },
  "nbformat": 4,
  "nbformat_minor": 0
}
