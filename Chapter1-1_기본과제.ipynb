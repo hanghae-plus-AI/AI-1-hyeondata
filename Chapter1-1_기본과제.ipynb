{
  "nbformat": 4,
  "nbformat_minor": 0,
  "metadata": {
    "colab": {
      "provenance": [],
      "gpuType": "T4",
      "toc_visible": true
    },
    "kernelspec": {
      "name": "python3",
      "display_name": "Python 3"
    },
    "language_info": {
      "name": "python"
    },
    "accelerator": "GPU"
  },
  "cells": [
    {
      "cell_type": "markdown",
      "source": [
        "#[1주차] 기본과제 ( MNIST 분류(classification) 모델 구현 )"
      ],
      "metadata": {
        "id": "OreetsmboeaH"
      }
    },
    {
      "cell_type": "markdown",
      "source": [
        "# MNIST 실습\n",
        "\n",
        "제일 먼저 사용할 library들을 import합니다."
      ],
      "metadata": {
        "id": "OPJenlrhihrh"
      }
    },
    {
      "cell_type": "code",
      "execution_count": null,
      "metadata": {
        "id": "6lXVfXoDtoQh"
      },
      "outputs": [],
      "source": [
        "import torch\n",
        "import torchvision\n",
        "import torchvision.transforms as transforms"
      ]
    },
    {
      "cell_type": "markdown",
      "source": [
        "다음은 dataset을 준비합니다. 손글씨 dataset은 MNIST라는 유명한 dataset이 있습니다. 이 dataset은 `torchvision`에서 제공하고 있으며, 다음과 같이 다운로드 받을 수 있습니다."
      ],
      "metadata": {
        "id": "pF-1zQvmiult"
      }
    },
    {
      "cell_type": "code",
      "source": [
        "transform = transforms.ToTensor()\n",
        "\n",
        "trainset = torchvision.datasets.MNIST(\n",
        "    root='./data',\n",
        "    train=True,\n",
        "    download=True,\n",
        "    transform=transform\n",
        ")"
      ],
      "metadata": {
        "id": "KAYlqPaRt6ti",
        "colab": {
          "base_uri": "https://localhost:8080/"
        },
        "outputId": "91573bdd-47a6-4eed-f20c-fe2b954983a9",
        "collapsed": true
      },
      "execution_count": null,
      "outputs": [
        {
          "output_type": "stream",
          "name": "stdout",
          "text": [
            "Downloading http://yann.lecun.com/exdb/mnist/train-images-idx3-ubyte.gz\n",
            "Failed to download (trying next):\n",
            "HTTP Error 403: Forbidden\n",
            "\n",
            "Downloading https://ossci-datasets.s3.amazonaws.com/mnist/train-images-idx3-ubyte.gz\n",
            "Downloading https://ossci-datasets.s3.amazonaws.com/mnist/train-images-idx3-ubyte.gz to ./data/MNIST/raw/train-images-idx3-ubyte.gz\n"
          ]
        },
        {
          "output_type": "stream",
          "name": "stderr",
          "text": [
            "100%|██████████| 9912422/9912422 [00:10<00:00, 905196.87it/s] \n"
          ]
        },
        {
          "output_type": "stream",
          "name": "stdout",
          "text": [
            "Extracting ./data/MNIST/raw/train-images-idx3-ubyte.gz to ./data/MNIST/raw\n",
            "\n",
            "Downloading http://yann.lecun.com/exdb/mnist/train-labels-idx1-ubyte.gz\n",
            "Failed to download (trying next):\n",
            "HTTP Error 403: Forbidden\n",
            "\n",
            "Downloading https://ossci-datasets.s3.amazonaws.com/mnist/train-labels-idx1-ubyte.gz\n",
            "Downloading https://ossci-datasets.s3.amazonaws.com/mnist/train-labels-idx1-ubyte.gz to ./data/MNIST/raw/train-labels-idx1-ubyte.gz\n"
          ]
        },
        {
          "output_type": "stream",
          "name": "stderr",
          "text": [
            "100%|██████████| 28881/28881 [00:00<00:00, 65142.83it/s]\n"
          ]
        },
        {
          "output_type": "stream",
          "name": "stdout",
          "text": [
            "Extracting ./data/MNIST/raw/train-labels-idx1-ubyte.gz to ./data/MNIST/raw\n",
            "\n",
            "Downloading http://yann.lecun.com/exdb/mnist/t10k-images-idx3-ubyte.gz\n",
            "Failed to download (trying next):\n",
            "HTTP Error 403: Forbidden\n",
            "\n",
            "Downloading https://ossci-datasets.s3.amazonaws.com/mnist/t10k-images-idx3-ubyte.gz\n",
            "Downloading https://ossci-datasets.s3.amazonaws.com/mnist/t10k-images-idx3-ubyte.gz to ./data/MNIST/raw/t10k-images-idx3-ubyte.gz\n"
          ]
        },
        {
          "output_type": "stream",
          "name": "stderr",
          "text": [
            "100%|██████████| 1648877/1648877 [00:06<00:00, 240664.30it/s]\n"
          ]
        },
        {
          "output_type": "stream",
          "name": "stdout",
          "text": [
            "Extracting ./data/MNIST/raw/t10k-images-idx3-ubyte.gz to ./data/MNIST/raw\n",
            "\n",
            "Downloading http://yann.lecun.com/exdb/mnist/t10k-labels-idx1-ubyte.gz\n",
            "Failed to download (trying next):\n",
            "HTTP Error 403: Forbidden\n",
            "\n",
            "Downloading https://ossci-datasets.s3.amazonaws.com/mnist/t10k-labels-idx1-ubyte.gz\n",
            "Downloading https://ossci-datasets.s3.amazonaws.com/mnist/t10k-labels-idx1-ubyte.gz to ./data/MNIST/raw/t10k-labels-idx1-ubyte.gz\n"
          ]
        },
        {
          "output_type": "stream",
          "name": "stderr",
          "text": [
            "100%|██████████| 4542/4542 [00:00<00:00, 2954028.34it/s]"
          ]
        },
        {
          "output_type": "stream",
          "name": "stdout",
          "text": [
            "Extracting ./data/MNIST/raw/t10k-labels-idx1-ubyte.gz to ./data/MNIST/raw\n",
            "\n"
          ]
        },
        {
          "output_type": "stream",
          "name": "stderr",
          "text": [
            "\n"
          ]
        }
      ]
    },
    {
      "cell_type": "markdown",
      "source": [
        "trainset 데이터가 잘 다운 됬는지 확인 하기 위해서 한개 표시"
      ],
      "metadata": {
        "id": "NLRNCwQ3IM7z"
      }
    },
    {
      "cell_type": "code",
      "source": [
        "from matplotlib import pyplot as plt\n",
        "\n",
        "\n",
        "print(len(trainset))\n",
        "print(trainset[0][0].shape, trainset[0][1])\n",
        "plt.imshow(trainset[0][0][0], cmap='gray')"
      ],
      "metadata": {
        "colab": {
          "base_uri": "https://localhost:8080/",
          "height": 484
        },
        "id": "Zsp3sHmojyhT",
        "outputId": "fc9b5a72-f70f-49eb-9b66-f76b9e0bdc62"
      },
      "execution_count": null,
      "outputs": [
        {
          "output_type": "stream",
          "name": "stdout",
          "text": [
            "60000\n",
            "torch.Size([1, 28, 28]) 5\n"
          ]
        },
        {
          "output_type": "execute_result",
          "data": {
            "text/plain": [
              "<matplotlib.image.AxesImage at 0x7a73a8742830>"
            ]
          },
          "metadata": {},
          "execution_count": 3
        },
        {
          "output_type": "display_data",
          "data": {
            "text/plain": [
              "<Figure size 640x480 with 1 Axes>"
            ],
            "image/png": "[encoded data removed]"
          },
          "metadata": {}
        }
      ]
    },
    {
      "cell_type": "markdown",
      "source": [
        "DataLoader가 dataset을 인자로 받아 batch_size 는 아래와 같이(64) 나눠주고,  완전 랜덤으로 batch를 구성해야 잘 동작하는 것을 알고 있기 때문에 shuffle에 True를 넘겨줍니다."
      ],
      "metadata": {
        "id": "m-L6JUqWNh9F"
      }
    },
    {
      "cell_type": "code",
      "source": [
        "batch_size = 64\n",
        "\n",
        "trainloader = torch.utils.data.DataLoader(\n",
        "    trainset,\n",
        "    batch_size=batch_size,\n",
        "    shuffle=True\n",
        ")"
      ],
      "metadata": {
        "id": "n8cALQLaNTeI"
      },
      "execution_count": null,
      "outputs": []
    },
    {
      "cell_type": "markdown",
      "source": [
        "DataLoader로 batch가 잘 나누어 졌는지 확인을 위해서 첫 번째 batch를 출력한 모습입니다."
      ],
      "metadata": {
        "id": "jMQeIdm6OR9w"
      }
    },
    {
      "cell_type": "code",
      "source": [
        "dataiter = iter(trainloader)\n",
        "images, labels = next(dataiter)\n",
        "print(images.shape, labels.shape)"
      ],
      "metadata": {
        "colab": {
          "base_uri": "https://localhost:8080/"
        },
        "id": "NE8ged7oNisS",
        "outputId": "d3757494-beb6-4055-abcf-4c56c8b4ad3c"
      },
      "execution_count": null,
      "outputs": [
        {
          "output_type": "stream",
          "name": "stdout",
          "text": [
            "torch.Size([64, 1, 28, 28]) torch.Size([64])\n"
          ]
        }
      ]
    },
    {
      "cell_type": "markdown",
      "source": [
        "##Test data 준비하기"
      ],
      "metadata": {
        "id": "eeZNlX_yojT3"
      }
    },
    {
      "cell_type": "markdown",
      "source": [
        "test를 위한 데이터 이기에 train 데이터는 다운 하지 않고 다운하는 코드입니다."
      ],
      "metadata": {
        "id": "O25alqMvO2cH"
      }
    },
    {
      "cell_type": "code",
      "source": [
        "transform = transforms.ToTensor()\n",
        "testset = torchvision.datasets.MNIST(\n",
        "    root='./Testdata',\n",
        "    train=False,\n",
        "    download=True,\n",
        "    transform=transform\n",
        ")"
      ],
      "metadata": {
        "id": "l6WecuoAojFr",
        "colab": {
          "base_uri": "https://localhost:8080/"
        },
        "outputId": "0c86d404-5abc-4e0e-e7fc-4ac06664f78a",
        "collapsed": true
      },
      "execution_count": null,
      "outputs": [
        {
          "output_type": "stream",
          "name": "stdout",
          "text": [
            "Downloading http://yann.lecun.com/exdb/mnist/train-images-idx3-ubyte.gz\n",
            "Failed to download (trying next):\n",
            "HTTP Error 403: Forbidden\n",
            "\n",
            "Downloading https://ossci-datasets.s3.amazonaws.com/mnist/train-images-idx3-ubyte.gz\n",
            "Downloading https://ossci-datasets.s3.amazonaws.com/mnist/train-images-idx3-ubyte.gz to ./Testdata/MNIST/raw/train-images-idx3-ubyte.gz\n"
          ]
        },
        {
          "output_type": "stream",
          "name": "stderr",
          "text": [
            "100%|██████████| 9912422/9912422 [00:11<00:00, 899062.42it/s] \n"
          ]
        },
        {
          "output_type": "stream",
          "name": "stdout",
          "text": [
            "Extracting ./Testdata/MNIST/raw/train-images-idx3-ubyte.gz to ./Testdata/MNIST/raw\n",
            "\n",
            "Downloading http://yann.lecun.com/exdb/mnist/train-labels-idx1-ubyte.gz\n",
            "Failed to download (trying next):\n",
            "HTTP Error 403: Forbidden\n",
            "\n",
            "Downloading https://ossci-datasets.s3.amazonaws.com/mnist/train-labels-idx1-ubyte.gz\n",
            "Downloading https://ossci-datasets.s3.amazonaws.com/mnist/train-labels-idx1-ubyte.gz to ./Testdata/MNIST/raw/train-labels-idx1-ubyte.gz\n"
          ]
        },
        {
          "output_type": "stream",
          "name": "stderr",
          "text": [
            "100%|██████████| 28881/28881 [00:00<00:00, 57543.18it/s]\n"
          ]
        },
        {
          "output_type": "stream",
          "name": "stdout",
          "text": [
            "Extracting ./Testdata/MNIST/raw/train-labels-idx1-ubyte.gz to ./Testdata/MNIST/raw\n",
            "\n",
            "Downloading http://yann.lecun.com/exdb/mnist/t10k-images-idx3-ubyte.gz\n",
            "Failed to download (trying next):\n",
            "HTTP Error 403: Forbidden\n",
            "\n",
            "Downloading https://ossci-datasets.s3.amazonaws.com/mnist/t10k-images-idx3-ubyte.gz\n",
            "Downloading https://ossci-datasets.s3.amazonaws.com/mnist/t10k-images-idx3-ubyte.gz to ./Testdata/MNIST/raw/t10k-images-idx3-ubyte.gz\n"
          ]
        },
        {
          "output_type": "stream",
          "name": "stderr",
          "text": [
            "100%|██████████| 1648877/1648877 [00:01<00:00, 1211899.55it/s]\n"
          ]
        },
        {
          "output_type": "stream",
          "name": "stdout",
          "text": [
            "Extracting ./Testdata/MNIST/raw/t10k-images-idx3-ubyte.gz to ./Testdata/MNIST/raw\n",
            "\n",
            "Downloading http://yann.lecun.com/exdb/mnist/t10k-labels-idx1-ubyte.gz\n",
            "Failed to download (trying next):\n",
            "HTTP Error 403: Forbidden\n",
            "\n",
            "Downloading https://ossci-datasets.s3.amazonaws.com/mnist/t10k-labels-idx1-ubyte.gz\n",
            "Downloading https://ossci-datasets.s3.amazonaws.com/mnist/t10k-labels-idx1-ubyte.gz to ./Testdata/MNIST/raw/t10k-labels-idx1-ubyte.gz\n"
          ]
        },
        {
          "output_type": "stream",
          "name": "stderr",
          "text": [
            "100%|██████████| 4542/4542 [00:00<00:00, 4373399.63it/s]"
          ]
        },
        {
          "output_type": "stream",
          "name": "stdout",
          "text": [
            "Extracting ./Testdata/MNIST/raw/t10k-labels-idx1-ubyte.gz to ./Testdata/MNIST/raw\n",
            "\n"
          ]
        },
        {
          "output_type": "stream",
          "name": "stderr",
          "text": [
            "\n"
          ]
        }
      ]
    },
    {
      "cell_type": "markdown",
      "source": [
        "trainset 데이터가 잘 다운 됬는지 확인 하기 위해서 한개 표시"
      ],
      "metadata": {
        "id": "NiU3AzENPFdj"
      }
    },
    {
      "cell_type": "code",
      "source": [
        "#TestData 잘 가져왔는지 확인\n",
        "from matplotlib import pyplot as plt\n",
        "\n",
        "\n",
        "print(len(testset))\n",
        "print(testset[0][0].shape, testset[0][1])\n",
        "plt.imshow(testset[0][0][0], cmap='gray')"
      ],
      "metadata": {
        "colab": {
          "base_uri": "https://localhost:8080/",
          "height": 484
        },
        "id": "wJNmjDtsTHzk",
        "outputId": "9a340d57-4b3f-41e9-e903-86726915f52f"
      },
      "execution_count": null,
      "outputs": [
        {
          "output_type": "stream",
          "name": "stdout",
          "text": [
            "10000\n",
            "torch.Size([1, 28, 28]) 7\n"
          ]
        },
        {
          "output_type": "execute_result",
          "data": {
            "text/plain": [
              "<matplotlib.image.AxesImage at 0x7a73a666f6a0>"
            ]
          },
          "metadata": {},
          "execution_count": 7
        },
        {
          "output_type": "display_data",
          "data": {
            "text/plain": [
              "<Figure size 640x480 with 1 Axes>"
            ],
            "image/png": "[encoded data removed]"
          },
          "metadata": {}
        }
      ]
    },
    {
      "cell_type": "markdown",
      "source": [
        "DataLoader가 dataset을 인자로 받아 batch_size 는 아래와 같이(64) 나눠주고,  완전 랜덤으로 batch를 구성해야 잘 동작하는 것을 알고 있기 때문에 shuffle에 True를 넘겨줍니다."
      ],
      "metadata": {
        "id": "DHL-1gyGQBRk"
      }
    },
    {
      "cell_type": "code",
      "source": [
        "batch_size = 64\n",
        "\n",
        "testloader = torch.utils.data.DataLoader(\n",
        "    testset,\n",
        "    batch_size=batch_size,\n",
        "    shuffle=False\n",
        ")"
      ],
      "metadata": {
        "id": "mlBOzDbXTS_o"
      },
      "execution_count": null,
      "outputs": []
    },
    {
      "cell_type": "markdown",
      "source": [
        "DataLoader로 batch가 잘 나누어 졌는지 확인을 위해서 첫 번째 batch를 출력한 모습입니다."
      ],
      "metadata": {
        "id": "gBdXfw5YP8k1"
      }
    },
    {
      "cell_type": "code",
      "source": [
        "dataiter = iter(testloader)\n",
        "images, labels = next(dataiter)\n",
        "print(images.shape, labels.shape)"
      ],
      "metadata": {
        "colab": {
          "base_uri": "https://localhost:8080/"
        },
        "id": "fC0zeupBP51c",
        "outputId": "b47e9021-90a6-4512-e7bf-45990c67a6ba"
      },
      "execution_count": null,
      "outputs": [
        {
          "output_type": "stream",
          "name": "stdout",
          "text": [
            "torch.Size([64, 1, 28, 28]) torch.Size([64])\n"
          ]
        }
      ]
    },
    {
      "cell_type": "markdown",
      "source": [
        "## nn.CrossEntropyLoss 적용하기"
      ],
      "metadata": {
        "id": "dGezg0V9ThiO"
      }
    },
    {
      "cell_type": "markdown",
      "source": [
        "첫 번쨰 batch의 크기인 (64, 1, 28, 28) shape의 image를 입력받아 nn.CrossEntropyLoss 사용을 위해서 출력에 class 개수 만큼 나오도록 해서 3-layer MLP를 구현합니다."
      ],
      "metadata": {
        "id": "e4UJf5X1MdcE"
      }
    },
    {
      "cell_type": "code",
      "source": [
        "from torch import nn\n",
        "\n",
        "\n",
        "class Model(nn.Module):\n",
        "  def __init__(self, input_dim, n_dim):\n",
        "    super().__init__()\n",
        "\n",
        "    self.layer1 = nn.Linear(input_dim, n_dim)\n",
        "    self.layer2 = nn.Linear(n_dim, n_dim)\n",
        "    self.layer3 = nn.Linear(n_dim, 10) #model output 변경\n",
        "\n",
        "    self.act = nn.ReLU()\n",
        "\n",
        "  def forward(self, x):\n",
        "    x = torch.flatten(x, start_dim=1)\n",
        "    x = self.act(self.layer1(x))\n",
        "    x = self.act(self.layer2(x))\n",
        "    x = self.act(self.layer3(x))\n",
        "\n",
        "    return x\n",
        "\n",
        "\n",
        "model = Model(28 * 28 * 1, 1024)"
      ],
      "metadata": {
        "id": "BhQzST7nE9L0"
      },
      "execution_count": null,
      "outputs": []
    },
    {
      "cell_type": "markdown",
      "source": [
        "gradient descent를 수행해줄 optimizer를 구현하는 모습입니다."
      ],
      "metadata": {
        "id": "-l0txkOnMTGY"
      }
    },
    {
      "cell_type": "code",
      "source": [
        "from torch.optim import SGD\n",
        "\n",
        "lr = 0.001\n",
        "model = model.to('cuda')\n",
        "\n",
        "optimizer = SGD(model.parameters(), lr=lr)"
      ],
      "metadata": {
        "id": "314FnIWsMAHd"
      },
      "execution_count": null,
      "outputs": []
    },
    {
      "cell_type": "markdown",
      "source": [
        "nn.CrossEntropyLoss()를 사용하여 학습하는 코드입니다."
      ],
      "metadata": {
        "id": "_JD7hUJOMnfj"
      }
    },
    {
      "cell_type": "code",
      "source": [
        "# 기존에 사용중이던  MSE -> nn.CrossEntropyLoss 변경\n",
        "criterion = nn.CrossEntropyLoss()\n",
        "n_epochs = 100\n",
        "\n",
        "for epoch in range(n_epochs):\n",
        "  total_loss = 0.\n",
        "  for data in trainloader:\n",
        "    model.zero_grad()\n",
        "    inputs, labels = data\n",
        "    inputs, labels = inputs.to('cuda'), labels.to('cuda')\n",
        "\n",
        "    preds = model(inputs)\n",
        "\n",
        "    loss = criterion(preds, labels) #nn.CrossEntropyLoss()로 변경하는 코드\n",
        "    loss.backward()\n",
        "    optimizer.step()\n",
        "\n",
        "    total_loss += loss.item()\n",
        "\n",
        "  print(f\"Epoch {epoch:3d} | Loss: {total_loss}\")"
      ],
      "metadata": {
        "colab": {
          "base_uri": "https://localhost:8080/"
        },
        "id": "1y-U29tVTgWP",
        "outputId": "cf6818e7-be31-45c1-f130-e7eaca5eb4ab"
      },
      "execution_count": null,
      "outputs": [
        {
          "output_type": "stream",
          "name": "stdout",
          "text": [
            "Epoch   0 | Loss: 2134.834127187729\n",
            "Epoch   1 | Loss: 2069.3270633220673\n",
            "Epoch   2 | Loss: 1970.3467450141907\n",
            "Epoch   3 | Loss: 1812.2106375694275\n",
            "Epoch   4 | Loss: 1588.3581848144531\n",
            "Epoch   5 | Loss: 1343.8690435886383\n",
            "Epoch   6 | Loss: 1146.277964234352\n",
            "Epoch   7 | Loss: 1010.8898263573647\n",
            "Epoch   8 | Loss: 917.3431395888329\n",
            "Epoch   9 | Loss: 849.5027159452438\n",
            "Epoch  10 | Loss: 797.550395399332\n",
            "Epoch  11 | Loss: 756.337849855423\n",
            "Epoch  12 | Loss: 722.9831141531467\n",
            "Epoch  13 | Loss: 695.640683054924\n",
            "Epoch  14 | Loss: 672.4228757917881\n",
            "Epoch  15 | Loss: 652.2612806558609\n",
            "Epoch  16 | Loss: 635.1300869584084\n",
            "Epoch  17 | Loss: 619.9188987314701\n",
            "Epoch  18 | Loss: 606.7017395496368\n",
            "Epoch  19 | Loss: 594.8932372927666\n",
            "Epoch  20 | Loss: 584.6068924963474\n",
            "Epoch  21 | Loss: 574.999523639679\n",
            "Epoch  22 | Loss: 566.4831894040108\n",
            "Epoch  23 | Loss: 558.7082955390215\n",
            "Epoch  24 | Loss: 551.7300793528557\n",
            "Epoch  25 | Loss: 545.2155901789665\n",
            "Epoch  26 | Loss: 539.0798158347607\n",
            "Epoch  27 | Loss: 533.8915172815323\n",
            "Epoch  28 | Loss: 528.5459367930889\n",
            "Epoch  29 | Loss: 523.698729172349\n",
            "Epoch  30 | Loss: 519.395607560873\n",
            "Epoch  31 | Loss: 515.1719058156013\n",
            "Epoch  32 | Loss: 511.2404791265726\n",
            "Epoch  33 | Loss: 507.6329372227192\n",
            "Epoch  34 | Loss: 503.8732455223799\n",
            "Epoch  35 | Loss: 500.4995238929987\n",
            "Epoch  36 | Loss: 497.0783912241459\n",
            "Epoch  37 | Loss: 493.9521234482527\n",
            "Epoch  38 | Loss: 491.08337023854256\n",
            "Epoch  39 | Loss: 488.20923076570034\n",
            "Epoch  40 | Loss: 485.36746360361576\n",
            "Epoch  41 | Loss: 482.6510602682829\n",
            "Epoch  42 | Loss: 480.0875537544489\n",
            "Epoch  43 | Loss: 477.64816799759865\n",
            "Epoch  44 | Loss: 475.3073056638241\n",
            "Epoch  45 | Loss: 472.88412514328957\n",
            "Epoch  46 | Loss: 470.4541974514723\n",
            "Epoch  47 | Loss: 468.2011515647173\n",
            "Epoch  48 | Loss: 466.1308810412884\n",
            "Epoch  49 | Loss: 463.9165201187134\n",
            "Epoch  50 | Loss: 461.8730357736349\n",
            "Epoch  51 | Loss: 459.7625774294138\n",
            "Epoch  52 | Loss: 457.6262800991535\n",
            "Epoch  53 | Loss: 455.70481038093567\n",
            "Epoch  54 | Loss: 453.9034350514412\n",
            "Epoch  55 | Loss: 452.11732874810696\n",
            "Epoch  56 | Loss: 450.04576571285725\n",
            "Epoch  57 | Loss: 448.4162894487381\n",
            "Epoch  58 | Loss: 446.55992205441\n",
            "Epoch  59 | Loss: 444.52919232845306\n",
            "Epoch  60 | Loss: 442.8394510447979\n",
            "Epoch  61 | Loss: 441.2613389790058\n",
            "Epoch  62 | Loss: 439.3050407022238\n",
            "Epoch  63 | Loss: 437.79393933713436\n",
            "Epoch  64 | Loss: 436.25266632437706\n",
            "Epoch  65 | Loss: 434.512581422925\n",
            "Epoch  66 | Loss: 433.07397800683975\n",
            "Epoch  67 | Loss: 431.4471144527197\n",
            "Epoch  68 | Loss: 430.0153524130583\n",
            "Epoch  69 | Loss: 428.3655719012022\n",
            "Epoch  70 | Loss: 426.9588070511818\n",
            "Epoch  71 | Loss: 425.1881389170885\n",
            "Epoch  72 | Loss: 423.7926870509982\n",
            "Epoch  73 | Loss: 422.311511233449\n",
            "Epoch  74 | Loss: 420.78422144055367\n",
            "Epoch  75 | Loss: 419.4652298539877\n",
            "Epoch  76 | Loss: 418.02417044341564\n",
            "Epoch  77 | Loss: 416.6610441058874\n",
            "Epoch  78 | Loss: 415.4651405662298\n",
            "Epoch  79 | Loss: 414.06250312924385\n",
            "Epoch  80 | Loss: 412.6868760660291\n",
            "Epoch  81 | Loss: 411.09720996022224\n",
            "Epoch  82 | Loss: 410.02974627166986\n",
            "Epoch  83 | Loss: 408.45441448688507\n",
            "Epoch  84 | Loss: 407.41778571903706\n",
            "Epoch  85 | Loss: 406.0528268441558\n",
            "Epoch  86 | Loss: 404.7132659703493\n",
            "Epoch  87 | Loss: 403.4620757251978\n",
            "Epoch  88 | Loss: 402.4212009906769\n",
            "Epoch  89 | Loss: 401.2316065877676\n",
            "Epoch  90 | Loss: 399.8496254310012\n",
            "Epoch  91 | Loss: 398.648506000638\n",
            "Epoch  92 | Loss: 397.3397672176361\n",
            "Epoch  93 | Loss: 396.40384282171726\n",
            "Epoch  94 | Loss: 395.0729741156101\n",
            "Epoch  95 | Loss: 394.13593313097954\n",
            "Epoch  96 | Loss: 392.9520948305726\n",
            "Epoch  97 | Loss: 391.6651440486312\n",
            "Epoch  98 | Loss: 390.5688564032316\n",
            "Epoch  99 | Loss: 389.4429975450039\n"
          ]
        }
      ]
    },
    {
      "cell_type": "markdown",
      "source": [
        "## 학습을 진행한 후, epoch에 따른 model의 train과 test data에 대한 정확도 plot하기\n",
        "( 학습 조건 n_epochs=100, batch_size=256, lr=0.001 )"
      ],
      "metadata": {
        "id": "WSrqNcvpV0Hm"
      }
    },
    {
      "cell_type": "markdown",
      "source": [
        "dataloader에 대한 model의 정확도를 측정하는 함수입니다."
      ],
      "metadata": {
        "id": "abFSxL-bZvN8"
      }
    },
    {
      "cell_type": "code",
      "source": [
        "#dataloader에 대한 model의 정확도를 측정하는 코드\n",
        "def accuracy(model, dataloader):\n",
        "  cnt = 0\n",
        "  acc = 0\n",
        "\n",
        "  for data in dataloader:\n",
        "    inputs, labels = data\n",
        "    inputs, labels = inputs.to('cuda'), labels.to('cuda')\n",
        "\n",
        "    preds = model(inputs)\n",
        "    preds = torch.argmax(preds, dim=-1)\n",
        "\n",
        "    cnt += labels.shape[0]\n",
        "    acc += (labels == preds).sum().item()\n",
        "\n",
        "  return acc / cnt"
      ],
      "metadata": {
        "id": "1bLTBdU9W9M1"
      },
      "execution_count": null,
      "outputs": []
    },
    {
      "cell_type": "markdown",
      "source": [
        "학습 조건인 batch_size를 변경해서 학습을 위해서 batch_size 변경 후 DataLoader를 이용해서 trainset과 testSet에 적용하는 코드 입니다."
      ],
      "metadata": {
        "id": "OnQkwQ5zZbUw"
      }
    },
    {
      "cell_type": "code",
      "source": [
        "batch_size = 256 #학습 조건 적용\n",
        "\n",
        "#train데이터 loader\n",
        "trainloader = torch.utils.data.DataLoader(\n",
        "    trainset,\n",
        "    batch_size=batch_size,\n",
        "    shuffle=True\n",
        ")\n",
        "\n",
        "#test데이터 loader\n",
        "testloader = torch.utils.data.DataLoader(\n",
        "    testset,\n",
        "    batch_size=batch_size,\n",
        "    shuffle=False\n",
        ")"
      ],
      "metadata": {
        "id": "oToGRtjZVwQc"
      },
      "execution_count": null,
      "outputs": []
    },
    {
      "cell_type": "markdown",
      "source": [
        "trainset과 testset데이터가 DataLoader로 batch가 잘 나누어 졌는지 확인을 위해서 첫 번째 batch를 출력한 코드입니다."
      ],
      "metadata": {
        "id": "zt-cwM7DZ4HG"
      }
    },
    {
      "cell_type": "code",
      "source": [
        "print(\"trainloader\")\n",
        "dataiter = iter(trainloader)\n",
        "images, labels = next(dataiter)\n",
        "print(images.shape, labels.shape)\n",
        "\n",
        "print(\"testloader\")\n",
        "dataiter = iter(testloader)\n",
        "images, labels = next(dataiter)\n",
        "print(images.shape, labels.shape)"
      ],
      "metadata": {
        "colab": {
          "base_uri": "https://localhost:8080/"
        },
        "id": "3BOmY_SKZ3gf",
        "outputId": "ae065b5b-7a7a-42ac-edce-e0abfff8ae5d"
      },
      "execution_count": null,
      "outputs": [
        {
          "output_type": "stream",
          "name": "stdout",
          "text": [
            "trainloader\n",
            "torch.Size([256, 1, 28, 28]) torch.Size([256])\n",
            "testloader\n",
            "torch.Size([256, 1, 28, 28]) torch.Size([256])\n"
          ]
        }
      ]
    },
    {
      "cell_type": "markdown",
      "source": [
        "첫 번쨰 batch의 크기인 (256, 1, 28, 28) shape의 image를 입력받아 nn.CrossEntropyLoss 사용을 위해서 출력에 class 개수 만큼 나오도록 해서 3-layer MLP를 구현합니다."
      ],
      "metadata": {
        "id": "NN0o6m2wamKL"
      }
    },
    {
      "cell_type": "code",
      "source": [
        "from torch import nn\n",
        "\n",
        "\n",
        "class Model(nn.Module):\n",
        "  def __init__(self, input_dim, n_dim):\n",
        "    super().__init__()\n",
        "\n",
        "    self.layer1 = nn.Linear(input_dim, n_dim)\n",
        "    self.layer2 = nn.Linear(n_dim, n_dim)\n",
        "    self.layer3 = nn.Linear(n_dim, 10)\n",
        "\n",
        "    self.act = nn.ReLU()\n",
        "\n",
        "  def forward(self, x):\n",
        "    x = torch.flatten(x, start_dim=1)\n",
        "    x = self.act(self.layer1(x))\n",
        "    x = self.act(self.layer2(x))\n",
        "    x = self.act(self.layer3(x))\n",
        "\n",
        "    return x\n",
        "\n",
        "\n",
        "model = Model(28 * 28 * 1, 1024)"
      ],
      "metadata": {
        "id": "YzccnG0JDBzI"
      },
      "execution_count": null,
      "outputs": []
    },
    {
      "cell_type": "markdown",
      "source": [
        "gradient descent를 수행해줄 optimizer를 구현하면서, 학습 조건인 lr=0.001을 적용한 코드입니다."
      ],
      "metadata": {
        "id": "lpSEXNKdbvrC"
      }
    },
    {
      "cell_type": "code",
      "source": [
        "from torch.optim import SGD\n",
        "\n",
        "lr = 0.001\n",
        "model = model.to('cuda')\n",
        "\n",
        "optimizer = SGD(model.parameters(), lr=lr)"
      ],
      "metadata": {
        "id": "nP5VsdirErJf"
      },
      "execution_count": null,
      "outputs": []
    },
    {
      "cell_type": "markdown",
      "source": [
        "nn.CrossEntropyLoss()를 사용하여 학습하면서, 매 epoch가 끝난 뒤에 model의 trainloader(trainloader_acc)와 testloader(testloader_acc)에 대한 정확도를 각각 list로 저장하는 코드입니다."
      ],
      "metadata": {
        "id": "WEzH4ei6cSDg"
      }
    },
    {
      "cell_type": "code",
      "source": [
        "#기존에 학습 코드를 응용해서 model의 trainloader와 testloader의 정확도를 저장하는 코드 추가\n",
        "criterion = nn.CrossEntropyLoss()\n",
        "trainloader_acc = []\n",
        "testloader_acc = []\n",
        "n_epochs = 100\n",
        "\n",
        "for epoch in range(n_epochs):\n",
        "  total_loss = 0.\n",
        "  for data in trainloader:\n",
        "    model.zero_grad()\n",
        "    inputs, labels = data\n",
        "\n",
        "    inputs, labels = inputs.to('cuda'), labels.to('cuda')\n",
        "\n",
        "    preds = model(inputs)\n",
        "\n",
        "    loss = criterion(preds, labels)\n",
        "    loss.backward()\n",
        "    optimizer.step()\n",
        "\n",
        "    total_loss += loss.item()\n",
        "\n",
        "  trainloader_acc.append(accuracy(model, trainloader))\n",
        "  testloader_acc.append(accuracy(model, testloader))\n",
        "\n",
        "  print(f\"Epoch {epoch:3d} | Loss: {total_loss}\")"
      ],
      "metadata": {
        "colab": {
          "base_uri": "https://localhost:8080/"
        },
        "id": "MiWJJhzkXJm9",
        "outputId": "e02d22ea-1c59-48cf-cd2e-6465df9d1a9e"
      },
      "execution_count": null,
      "outputs": [
        {
          "output_type": "stream",
          "name": "stdout",
          "text": [
            "Epoch   0 | Loss: 540.1705708503723\n",
            "Epoch   1 | Loss: 538.5062685012817\n",
            "Epoch   2 | Loss: 536.5106287002563\n",
            "Epoch   3 | Loss: 534.383448600769\n",
            "Epoch   4 | Loss: 532.1772961616516\n",
            "Epoch   5 | Loss: 529.8208260536194\n",
            "Epoch   6 | Loss: 527.2433853149414\n",
            "Epoch   7 | Loss: 524.4393880367279\n",
            "Epoch   8 | Loss: 521.3127160072327\n",
            "Epoch   9 | Loss: 517.8403549194336\n",
            "Epoch  10 | Loss: 514.0283579826355\n",
            "Epoch  11 | Loss: 509.7522222995758\n",
            "Epoch  12 | Loss: 505.11400604248047\n",
            "Epoch  13 | Loss: 500.00382375717163\n",
            "Epoch  14 | Loss: 494.5041241645813\n",
            "Epoch  15 | Loss: 488.71496653556824\n",
            "Epoch  16 | Loss: 482.58010149002075\n",
            "Epoch  17 | Loss: 476.2630207538605\n",
            "Epoch  18 | Loss: 469.82070457935333\n",
            "Epoch  19 | Loss: 463.3101798295975\n",
            "Epoch  20 | Loss: 456.857675075531\n",
            "Epoch  21 | Loss: 450.3351732492447\n",
            "Epoch  22 | Loss: 443.23562133312225\n",
            "Epoch  23 | Loss: 435.9125372171402\n",
            "Epoch  24 | Loss: 428.8540692329407\n",
            "Epoch  25 | Loss: 421.8015172481537\n",
            "Epoch  26 | Loss: 415.13705909252167\n",
            "Epoch  27 | Loss: 408.4681758880615\n",
            "Epoch  28 | Loss: 402.31853103637695\n",
            "Epoch  29 | Loss: 396.0277500152588\n",
            "Epoch  30 | Loss: 390.07616555690765\n",
            "Epoch  31 | Loss: 384.18495631217957\n",
            "Epoch  32 | Loss: 378.4490774869919\n",
            "Epoch  33 | Loss: 373.0301512479782\n",
            "Epoch  34 | Loss: 367.61758148670197\n",
            "Epoch  35 | Loss: 362.6051170825958\n",
            "Epoch  36 | Loss: 357.5641191005707\n",
            "Epoch  37 | Loss: 352.7129656076431\n",
            "Epoch  38 | Loss: 348.11557376384735\n",
            "Epoch  39 | Loss: 343.8546087741852\n",
            "Epoch  40 | Loss: 339.668838262558\n",
            "Epoch  41 | Loss: 335.6373065710068\n",
            "Epoch  42 | Loss: 329.96212434768677\n",
            "Epoch  43 | Loss: 322.46197831630707\n",
            "Epoch  44 | Loss: 317.2722603082657\n",
            "Epoch  45 | Loss: 312.99244725704193\n",
            "Epoch  46 | Loss: 309.0579854249954\n",
            "Epoch  47 | Loss: 305.2487300634384\n",
            "Epoch  48 | Loss: 301.6742525100708\n",
            "Epoch  49 | Loss: 298.24028968811035\n",
            "Epoch  50 | Loss: 295.0747617483139\n",
            "Epoch  51 | Loss: 291.88618075847626\n",
            "Epoch  52 | Loss: 288.85425782203674\n",
            "Epoch  53 | Loss: 286.0043215751648\n",
            "Epoch  54 | Loss: 283.1433975696564\n",
            "Epoch  55 | Loss: 280.4705843925476\n",
            "Epoch  56 | Loss: 277.92157340049744\n",
            "Epoch  57 | Loss: 275.31513673067093\n",
            "Epoch  58 | Loss: 272.7640382051468\n",
            "Epoch  59 | Loss: 270.3085646033287\n",
            "Epoch  60 | Loss: 268.1348984837532\n",
            "Epoch  61 | Loss: 265.7671326994896\n",
            "Epoch  62 | Loss: 263.57519137859344\n",
            "Epoch  63 | Loss: 261.6275987625122\n",
            "Epoch  64 | Loss: 259.6659210920334\n",
            "Epoch  65 | Loss: 257.8467791080475\n",
            "Epoch  66 | Loss: 256.16153329610825\n",
            "Epoch  67 | Loss: 254.33348298072815\n",
            "Epoch  68 | Loss: 252.69563806056976\n",
            "Epoch  69 | Loss: 251.13882720470428\n",
            "Epoch  70 | Loss: 249.66627568006516\n",
            "Epoch  71 | Loss: 248.34906005859375\n",
            "Epoch  72 | Loss: 247.05524080991745\n",
            "Epoch  73 | Loss: 245.72022026777267\n",
            "Epoch  74 | Loss: 244.4867988228798\n",
            "Epoch  75 | Loss: 243.42697304487228\n",
            "Epoch  76 | Loss: 242.32756346464157\n",
            "Epoch  77 | Loss: 241.29986482858658\n",
            "Epoch  78 | Loss: 240.3300815820694\n",
            "Epoch  79 | Loss: 239.38335704803467\n",
            "Epoch  80 | Loss: 238.42613124847412\n",
            "Epoch  81 | Loss: 237.5727583169937\n",
            "Epoch  82 | Loss: 236.7704006433487\n",
            "Epoch  83 | Loss: 236.0551488995552\n",
            "Epoch  84 | Loss: 235.23929905891418\n",
            "Epoch  85 | Loss: 234.40349024534225\n",
            "Epoch  86 | Loss: 233.61746060848236\n",
            "Epoch  87 | Loss: 233.0995248556137\n",
            "Epoch  88 | Loss: 232.2829806804657\n",
            "Epoch  89 | Loss: 231.75114291906357\n",
            "Epoch  90 | Loss: 231.16999924182892\n",
            "Epoch  91 | Loss: 230.60602164268494\n",
            "Epoch  92 | Loss: 229.9699074625969\n",
            "Epoch  93 | Loss: 229.27460849285126\n",
            "Epoch  94 | Loss: 228.80159616470337\n",
            "Epoch  95 | Loss: 228.32289707660675\n",
            "Epoch  96 | Loss: 227.87053459882736\n",
            "Epoch  97 | Loss: 227.43148225545883\n",
            "Epoch  98 | Loss: 227.0496256351471\n",
            "Epoch  99 | Loss: 226.38642793893814\n"
          ]
        }
      ]
    },
    {
      "cell_type": "markdown",
      "source": [
        "Epoch에 따른 train과 test data에 대한 model의 정확도를 시각화 하는 코드입니다."
      ],
      "metadata": {
        "id": "opkEe-QDdXl-"
      }
    },
    {
      "cell_type": "code",
      "source": [
        "import numpy as np\n",
        "#Epoch에 따른 train과 test data에 대한 model의 정확도를 다음 코드를 사용하여 plot하는 함수\n",
        "def plot_acc(train_accs, test_accs, label1='train', label2='test'):\n",
        "  x = np.arange(len(train_accs))\n",
        "\n",
        "  plt.plot(x, train_accs, label=label1)\n",
        "  plt.plot(x, test_accs, label=label2)\n",
        "  plt.legend()\n",
        "  plt.show()\n",
        "\n",
        "# plot하는 함수 사용\n",
        "plot_acc(trainloader_acc, testloader_acc)"
      ],
      "metadata": {
        "colab": {
          "base_uri": "https://localhost:8080/",
          "height": 430
        },
        "id": "5Q98oMclX32R",
        "outputId": "d6b2d71c-0b21-405b-c15b-05b28afa535d"
      },
      "execution_count": null,
      "outputs": [
        {
          "output_type": "display_data",
          "data": {
            "text/plain": [
              "<Figure size 640x480 with 1 Axes>"
            ],
            "image/png": "[encoded data removed]"
          },
          "metadata": {}
        }
      ]
    },
    {
      "cell_type": "markdown",
      "source": [
        "추가로 실제로 학습한 모델이 잘 예측하는지 확인하기 위해서 그림으로 그려주고 예측한 값을 보여주는 코드입니다."
      ],
      "metadata": {
        "id": "RZ9Z_ybYnsTJ"
      }
    },
    {
      "cell_type": "code",
      "source": [
        "idx = 0\n",
        "\n",
        "x = trainset[idx][0][None]  # (1, 1, 28, 28)\n",
        "x = x.to('cuda')\n",
        "\n",
        "# 예측 결과 얻기\n",
        "with torch.no_grad():\n",
        "    output = model(x)\n",
        "\n",
        "# 예측 결과 해석\n",
        "predicted_class = torch.argmax(output).item()\n",
        "\n",
        "plt.imshow(trainset[idx][0][0], cmap='gray')\n",
        "plt.title(f\"Actual: {trainset[idx][1]}, Predicted: {predicted_class}\")\n",
        "plt.show()\n",
        "\n",
        "print(\"모델 출력:\", output)\n",
        "print(f\"예측한 숫자: {predicted_class}\")\n",
        "print(f\"실제 숫자: {trainset[idx][1]}\")"
      ],
      "metadata": {
        "id": "Zct0ssSKwjt1",
        "colab": {
          "base_uri": "https://localhost:8080/",
          "height": 523
        },
        "outputId": "0b59c03d-2523-4461-8b90-77dd20d4b3de"
      },
      "execution_count": null,
      "outputs": [
        {
          "output_type": "display_data",
          "data": {
            "text/plain": [
              "<Figure size 640x480 with 1 Axes>"
            ],
            "image/png": "[encoded data removed]"
          },
          "metadata": {}
        },
        {
          "output_type": "stream",
          "name": "stdout",
          "text": [
            "모델 출력: tensor([[0.0000, 0.0000, 0.3509, 2.2698, 0.0000, 0.0000, 0.0000, 0.0000, 0.0000,\n",
            "         0.0000]], device='cuda:0')\n",
            "예측한 숫자: 3\n",
            "실제 숫자: 5\n"
          ]
        }
      ]
    },
    {
      "cell_type": "markdown",
      "source": [
        "위의 출력을 보아 예측에 실패한 것을 알 수 있다."
      ],
      "metadata": {
        "id": "-xqzAhrLOOS5"
      }
    }
  ]
}