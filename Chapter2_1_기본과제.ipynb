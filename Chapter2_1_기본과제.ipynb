{
  "cells": [
    {
      "cell_type": "markdown",
      "metadata": {
        "id": "view-in-github",
        "colab_type": "text"
      },
      "source": [
        "<a href=\"https://colab.research.google.com/github/hanghae-plus-AI/AI-1-hyeondata/blob/main/Chapter2_1_%EA%B8%B0%EB%B3%B8%EA%B3%BC%EC%A0%9C.ipynb\" target=\"_parent\"><img src=\"https://colab.research.google.com/assets/colab-badge.svg\" alt=\"Open In Colab\"/></a>"
      ]
    },
    {
      "cell_type": "markdown",
      "metadata": {
        "id": "sbgz49PvHhLt"
      },
      "source": [
        "# DistilBERT fine-tuning으로 감정 분석 모델 학습하기\n",
        "\n",
        "이번 실습에서는 pre-trained된 DistilBERT를 불러와 이전 주차 실습에서 사용하던 감정 분석 문제에 적용합니다. 먼저 필요한 library들을 불러옵니다."
      ]
    },
    {
      "cell_type": "code",
      "execution_count": null,
      "metadata": {
        "colab": {
          "base_uri": "https://localhost:8080/"
        },
        "id": "1LqgujQUbv6X",
        "outputId": "31c1aee7-ef78-4500-a6f0-2246537e9fad"
      },
      "outputs": [
        {
          "name": "stdout",
          "output_type": "stream",
          "text": [
            "Requirement already satisfied: tqdm in c:\\users\\codekim\\miniconda3\\envs\\kaggle\\lib\\site-packages (4.66.4)\n",
            "Requirement already satisfied: boto3 in c:\\users\\codekim\\miniconda3\\envs\\kaggle\\lib\\site-packages (1.34.144)\n",
            "Requirement already satisfied: requests in c:\\users\\codekim\\miniconda3\\envs\\kaggle\\lib\\site-packages (2.32.3)\n",
            "Requirement already satisfied: regex in c:\\users\\codekim\\miniconda3\\envs\\kaggle\\lib\\site-packages (2024.5.15)\n",
            "Requirement already satisfied: sentencepiece in c:\\users\\codekim\\miniconda3\\envs\\kaggle\\lib\\site-packages (0.2.0)\n",
            "Requirement already satisfied: sacremoses in c:\\users\\codekim\\miniconda3\\envs\\kaggle\\lib\\site-packages (0.1.1)\n",
            "Requirement already satisfied: datasets in c:\\users\\codekim\\miniconda3\\envs\\kaggle\\lib\\site-packages (2.20.0)\n",
            "Requirement already satisfied: colorama in c:\\users\\codekim\\miniconda3\\envs\\kaggle\\lib\\site-packages (from tqdm) (0.4.6)\n",
            "Requirement already satisfied: botocore<1.35.0,>=1.34.144 in c:\\users\\codekim\\miniconda3\\envs\\kaggle\\lib\\site-packages (from boto3) (1.34.144)\n",
            "Requirement already satisfied: jmespath<2.0.0,>=0.7.1 in c:\\users\\codekim\\miniconda3\\envs\\kaggle\\lib\\site-packages (from boto3) (1.0.1)\n",
            "Requirement already satisfied: s3transfer<0.11.0,>=0.10.0 in c:\\users\\codekim\\miniconda3\\envs\\kaggle\\lib\\site-packages (from boto3) (0.10.2)\n",
            "Requirement already satisfied: charset-normalizer<4,>=2 in c:\\users\\codekim\\miniconda3\\envs\\kaggle\\lib\\site-packages (from requests) (3.3.2)\n",
            "Requirement already satisfied: idna<4,>=2.5 in c:\\users\\codekim\\miniconda3\\envs\\kaggle\\lib\\site-packages (from requests) (3.7)\n",
            "Requirement already satisfied: urllib3<3,>=1.21.1 in c:\\users\\codekim\\miniconda3\\envs\\kaggle\\lib\\site-packages (from requests) (2.2.2)\n",
            "Requirement already satisfied: certifi>=2017.4.17 in c:\\users\\codekim\\miniconda3\\envs\\kaggle\\lib\\site-packages (from requests) (2024.7.4)\n",
            "Requirement already satisfied: click in c:\\users\\codekim\\miniconda3\\envs\\kaggle\\lib\\site-packages (from sacremoses) (8.1.7)\n",
            "Requirement already satisfied: joblib in c:\\users\\codekim\\miniconda3\\envs\\kaggle\\lib\\site-packages (from sacremoses) (1.3.2)\n",
            "Requirement already satisfied: filelock in c:\\users\\codekim\\miniconda3\\envs\\kaggle\\lib\\site-packages (from datasets) (3.15.4)\n",
            "Requirement already satisfied: numpy>=1.17 in c:\\users\\codekim\\miniconda3\\envs\\kaggle\\lib\\site-packages (from datasets) (1.26.4)\n",
            "Requirement already satisfied: pyarrow>=15.0.0 in c:\\users\\codekim\\miniconda3\\envs\\kaggle\\lib\\site-packages (from datasets) (16.1.0)\n",
            "Requirement already satisfied: pyarrow-hotfix in c:\\users\\codekim\\miniconda3\\envs\\kaggle\\lib\\site-packages (from datasets) (0.6)\n",
            "Requirement already satisfied: dill<0.3.9,>=0.3.0 in c:\\users\\codekim\\miniconda3\\envs\\kaggle\\lib\\site-packages (from datasets) (0.3.8)\n",
            "Requirement already satisfied: pandas in c:\\users\\codekim\\miniconda3\\envs\\kaggle\\lib\\site-packages (from datasets) (2.1.4)\n",
            "Requirement already satisfied: xxhash in c:\\users\\codekim\\miniconda3\\envs\\kaggle\\lib\\site-packages (from datasets) (3.4.1)\n",
            "Requirement already satisfied: multiprocess in c:\\users\\codekim\\miniconda3\\envs\\kaggle\\lib\\site-packages (from datasets) (0.70.16)\n",
            "Requirement already satisfied: fsspec<=2024.5.0,>=2023.1.0 in c:\\users\\codekim\\miniconda3\\envs\\kaggle\\lib\\site-packages (from fsspec[http]<=2024.5.0,>=2023.1.0->datasets) (2024.5.0)\n",
            "Requirement already satisfied: aiohttp in c:\\users\\codekim\\miniconda3\\envs\\kaggle\\lib\\site-packages (from datasets) (3.9.5)\n",
            "Requirement already satisfied: huggingface-hub>=0.21.2 in c:\\users\\codekim\\miniconda3\\envs\\kaggle\\lib\\site-packages (from datasets) (0.23.4)\n",
            "Requirement already satisfied: packaging in c:\\users\\codekim\\miniconda3\\envs\\kaggle\\lib\\site-packages (from datasets) (24.1)\n",
            "Requirement already satisfied: pyyaml>=5.1 in c:\\users\\codekim\\miniconda3\\envs\\kaggle\\lib\\site-packages (from datasets) (6.0.1)\n",
            "Requirement already satisfied: python-dateutil<3.0.0,>=2.1 in c:\\users\\codekim\\miniconda3\\envs\\kaggle\\lib\\site-packages (from botocore<1.35.0,>=1.34.144->boto3) (2.9.0)\n",
            "Requirement already satisfied: aiosignal>=1.1.2 in c:\\users\\codekim\\miniconda3\\envs\\kaggle\\lib\\site-packages (from aiohttp->datasets) (1.3.1)\n",
            "Requirement already satisfied: attrs>=17.3.0 in c:\\users\\codekim\\miniconda3\\envs\\kaggle\\lib\\site-packages (from aiohttp->datasets) (23.2.0)\n",
            "Requirement already satisfied: frozenlist>=1.1.1 in c:\\users\\codekim\\miniconda3\\envs\\kaggle\\lib\\site-packages (from aiohttp->datasets) (1.4.1)\n",
            "Requirement already satisfied: multidict<7.0,>=4.5 in c:\\users\\codekim\\miniconda3\\envs\\kaggle\\lib\\site-packages (from aiohttp->datasets) (6.0.5)\n",
            "Requirement already satisfied: yarl<2.0,>=1.0 in c:\\users\\codekim\\miniconda3\\envs\\kaggle\\lib\\site-packages (from aiohttp->datasets) (1.9.4)\n",
            "Requirement already satisfied: typing-extensions>=3.7.4.3 in c:\\users\\codekim\\miniconda3\\envs\\kaggle\\lib\\site-packages (from huggingface-hub>=0.21.2->datasets) (4.12.2)\n",
            "Requirement already satisfied: pytz>=2020.1 in c:\\users\\codekim\\miniconda3\\envs\\kaggle\\lib\\site-packages (from pandas->datasets) (2024.1)\n",
            "Requirement already satisfied: tzdata>=2022.1 in c:\\users\\codekim\\miniconda3\\envs\\kaggle\\lib\\site-packages (from pandas->datasets) (2024.1)\n",
            "Requirement already satisfied: six>=1.5 in c:\\users\\codekim\\miniconda3\\envs\\kaggle\\lib\\site-packages (from python-dateutil<3.0.0,>=2.1->botocore<1.35.0,>=1.34.144->boto3) (1.16.0)\n",
            "Note: you may need to restart the kernel to use updated packages.\n"
          ]
        }
      ],
      "source": [
        "%pip install tqdm boto3 requests regex sentencepiece sacremoses datasets"
      ]
    },
    {
      "cell_type": "markdown",
      "metadata": {
        "id": "6YP3FxG9IF7O"
      },
      "source": [
        "그 후, 우리가 사용하는 DistilBERT pre-training 때 사용한 tokenizer를 불러옵니다."
      ]
    },
    {
      "cell_type": "code",
      "execution_count": null,
      "metadata": {
        "colab": {
          "base_uri": "https://localhost:8080/"
        },
        "id": "6lGiZUoPby6e",
        "outputId": "ec0a6a87-90ba-4d83-81b7-bdb9645dafe7"
      },
      "outputs": [
        {
          "name": "stderr",
          "output_type": "stream",
          "text": [
            "Using cache found in C:\\Users\\codeKim/.cache\\torch\\hub\\huggingface_pytorch-transformers_main\n",
            "c:\\Users\\codeKim\\miniconda3\\envs\\kaggle\\Lib\\site-packages\\huggingface_hub\\file_download.py:1132: FutureWarning: `resume_download` is deprecated and will be removed in version 1.0.0. Downloads always resume when possible. If you want to force a new download, use `force_download=True`.\n",
            "  warnings.warn(\n"
          ]
        }
      ],
      "source": [
        "import torch\n",
        "from datasets import load_dataset\n",
        "from torch.utils.data import DataLoader\n",
        "\n",
        "tokenizer = torch.hub.load('huggingface/pytorch-transformers', 'tokenizer', 'distilbert-base-uncased')"
      ]
    },
    {
      "cell_type": "markdown",
      "metadata": {
        "id": "Cvfl_uFLIMWO"
      },
      "source": [
        "DistilBERT의 tokenizer를 불러왔으면 이제 `collate_fn`과 data loader를 정의합니다. 이 과정은 이전 실습과 동일하게 다음과 같이 구현할 수 있습니다."
      ]
    },
    {
      "cell_type": "markdown",
      "source": [
        "## AG_News dataset 준비\n",
        "    - Huggingface dataset의 `fancyzhx/ag_news`를 load합니다.\n",
        "    - `collate_fn` 함수에 다음 수정사항들을 반영하면 됩니다.\n",
        "        - Truncation과 관련된 부분들을 지웁니다."
      ],
      "metadata": {
        "id": "AfverFtcQKfP"
      }
    },
    {
      "cell_type": "code",
      "execution_count": null,
      "metadata": {
        "id": "rE-y8sY9HuwP"
      },
      "outputs": [],
      "source": [
        "ds = load_dataset(\"fancyzhx/ag_news\") # Huggingface dataset의 `fancyzhx/ag_news`를 load하는 코드\n",
        "\n",
        "\n",
        "def collate_fn(batch):\n",
        "  max_len = 400\n",
        "  texts, labels = [], []\n",
        "  for row in batch:\n",
        "    labels.append(row['label'])\n",
        "    texts.append(row['text'])\n",
        "\n",
        "  texts = torch.LongTensor(tokenizer(texts, padding=True).input_ids) #Truncation과 관련된 부분 제거\n",
        "  # texts = torch.LongTensor(tokenizer(texts, padding=True, truncation=True, max_length=max_len).input_ids)\n",
        "  labels = torch.LongTensor(labels)\n",
        "\n",
        "  return texts, labels\n",
        "\n",
        "\n",
        "train_loader = DataLoader(\n",
        "    ds['train'], batch_size=64, shuffle=True, collate_fn=collate_fn\n",
        ")\n",
        "test_loader = DataLoader(\n",
        "    ds['test'], batch_size=64, shuffle=False, collate_fn=collate_fn\n",
        ")"
      ]
    },
    {
      "cell_type": "markdown",
      "source": [
        "# Classifier output, loss function, accuracy function 변경\n",
        "    - 뉴스 기사 분류 문제는 binary classification이 아닌 일반적인 classification 문제입니다. MNIST 과제에서 했던 것 처럼 `nn.CrossEntropyLoss` 를 추가하고 `TextClassifier`의 출력 차원을 잘 조정하여 task를 풀 수 있도록 수정하시면 됩니다.\n",
        "    - 그리고 정확도를 재는 `accuracy` 함수도 classification에 맞춰 수정하시면 됩니다."
      ],
      "metadata": {
        "id": "wtmT-BF47bPM"
      }
    },
    {
      "cell_type": "markdown",
      "source": [
        "### 출력이 몇개 있는지 알기 위해서 최대 값과, 최솟 값 label확인"
      ],
      "metadata": {
        "id": "lp17_KhhPeYf"
      }
    },
    {
      "cell_type": "code",
      "execution_count": null,
      "metadata": {
        "colab": {
          "base_uri": "https://localhost:8080/"
        },
        "id": "QFsxQehLCmf7",
        "outputId": "d8643db2-84e3-47e6-ef02-4e0b2f0010d0"
      },
      "outputs": [
        {
          "name": "stdout",
          "output_type": "stream",
          "text": [
            "3\n",
            "0\n"
          ]
        }
      ],
      "source": [
        "print(max(ds[\"test\"]['label']))\n",
        "print(min(ds[\"test\"]['label']))"
      ]
    },
    {
      "cell_type": "markdown",
      "metadata": {
        "id": "bF34XkoYIeEm"
      },
      "source": [
        "이제 pre-trained DistilBERT를 불러옵니다. 이번에는 PyTorch hub에서 제공하는 DistilBERT를 불러봅시다."
      ]
    },
    {
      "cell_type": "code",
      "execution_count": null,
      "metadata": {
        "colab": {
          "base_uri": "https://localhost:8080/"
        },
        "id": "HJaUp2Vob0U-",
        "outputId": "7264ba2b-c28f-4292-9e80-ae95bfb32376"
      },
      "outputs": [
        {
          "name": "stderr",
          "output_type": "stream",
          "text": [
            "Using cache found in C:\\Users\\codeKim/.cache\\torch\\hub\\huggingface_pytorch-transformers_main\n",
            "c:\\Users\\codeKim\\miniconda3\\envs\\kaggle\\Lib\\site-packages\\huggingface_hub\\file_download.py:1132: FutureWarning: `resume_download` is deprecated and will be removed in version 1.0.0. Downloads always resume when possible. If you want to force a new download, use `force_download=True`.\n",
            "  warnings.warn(\n"
          ]
        },
        {
          "data": {
            "text/plain": [
              "DistilBertModel(\n",
              "  (embeddings): Embeddings(\n",
              "    (word_embeddings): Embedding(30522, 768, padding_idx=0)\n",
              "    (position_embeddings): Embedding(512, 768)\n",
              "    (LayerNorm): LayerNorm((768,), eps=1e-12, elementwise_affine=True)\n",
              "    (dropout): Dropout(p=0.1, inplace=False)\n",
              "  )\n",
              "  (transformer): Transformer(\n",
              "    (layer): ModuleList(\n",
              "      (0-5): 6 x TransformerBlock(\n",
              "        (attention): MultiHeadSelfAttention(\n",
              "          (dropout): Dropout(p=0.1, inplace=False)\n",
              "          (q_lin): Linear(in_features=768, out_features=768, bias=True)\n",
              "          (k_lin): Linear(in_features=768, out_features=768, bias=True)\n",
              "          (v_lin): Linear(in_features=768, out_features=768, bias=True)\n",
              "          (out_lin): Linear(in_features=768, out_features=768, bias=True)\n",
              "        )\n",
              "        (sa_layer_norm): LayerNorm((768,), eps=1e-12, elementwise_affine=True)\n",
              "        (ffn): FFN(\n",
              "          (dropout): Dropout(p=0.1, inplace=False)\n",
              "          (lin1): Linear(in_features=768, out_features=3072, bias=True)\n",
              "          (lin2): Linear(in_features=3072, out_features=768, bias=True)\n",
              "          (activation): GELUActivation()\n",
              "        )\n",
              "        (output_layer_norm): LayerNorm((768,), eps=1e-12, elementwise_affine=True)\n",
              "      )\n",
              "    )\n",
              "  )\n",
              ")"
            ]
          },
          "execution_count": 6,
          "metadata": {},
          "output_type": "execute_result"
        }
      ],
      "source": [
        "model = torch.hub.load('huggingface/pytorch-transformers', 'model', 'distilbert-base-uncased')\n",
        "model"
      ]
    },
    {
      "cell_type": "markdown",
      "metadata": {
        "id": "uh-tqY8WInQt"
      },
      "source": [
        "출력 결과를 통해 우리는 DistilBERT의 architecture는 일반적인 Transformer와 동일한 것을 알 수 있습니다.\n",
        "Embedding layer로 시작해서 여러 layer의 Attention, FFN를 거칩니다.\n",
        "\n",
        "이제 DistilBERT를 거치고 난 `[CLS]` token의 representation을 가지고 text 분류를 하는 모델을 구현합시다."
      ]
    },
    {
      "cell_type": "markdown",
      "source": [
        "### 출력 차원 조절"
      ],
      "metadata": {
        "id": "xs2CtOJ3Su9S"
      }
    },
    {
      "cell_type": "code",
      "execution_count": null,
      "metadata": {
        "colab": {
          "base_uri": "https://localhost:8080/"
        },
        "id": "xW7ETZQzzNp2",
        "outputId": "26981ac9-cb03-4800-bcbd-60253458cdfe"
      },
      "outputs": [
        {
          "name": "stderr",
          "output_type": "stream",
          "text": [
            "Using cache found in C:\\Users\\codeKim/.cache\\torch\\hub\\huggingface_pytorch-transformers_main\n",
            "c:\\Users\\codeKim\\miniconda3\\envs\\kaggle\\Lib\\site-packages\\huggingface_hub\\file_download.py:1132: FutureWarning: `resume_download` is deprecated and will be removed in version 1.0.0. Downloads always resume when possible. If you want to force a new download, use `force_download=True`.\n",
            "  warnings.warn(\n"
          ]
        }
      ],
      "source": [
        "from torch import nn\n",
        "\n",
        "\n",
        "class TextClassifier(nn.Module):\n",
        "  def __init__(self):\n",
        "    super().__init__()\n",
        "\n",
        "    self.encoder = torch.hub.load('huggingface/pytorch-transformers', 'model', 'distilbert-base-uncased')\n",
        "    self.classifier = nn.Linear(768, 4)\n",
        "\n",
        "  def forward(self, x):\n",
        "    x = self.encoder(x)['last_hidden_state']\n",
        "    x = self.classifier(x[:, 0])\n",
        "\n",
        "    return x\n",
        "\n",
        "\n",
        "model = TextClassifier()"
      ]
    },
    {
      "cell_type": "markdown",
      "metadata": {
        "id": "_hFvSis0JLju"
      },
      "source": [
        "위와 같이 `TextClassifier`의 `encoder`를 불러온 DistilBERT, 그리고 `classifier`를 linear layer로 설정합니다.\n",
        "그리고 `forward` 함수에서 순차적으로 사용하여 예측 결과를 반환합니다.\n",
        "\n",
        "다음은 마지막 classifier layer를 제외한 나머지 부분을 freeze하는 코드를 구현합니다."
      ]
    },
    {
      "cell_type": "code",
      "execution_count": null,
      "metadata": {
        "id": "uyTciaPZ0KYo"
      },
      "outputs": [],
      "source": [
        "for param in model.encoder.parameters():\n",
        "  param.requires_grad = False"
      ]
    },
    {
      "cell_type": "markdown",
      "metadata": {
        "id": "hU7BWEbgJeKm"
      },
      "source": [
        "위의 코드는 `encoder`에 해당하는 parameter들의 `requires_grad`를 `False`로 설정하는 모습입니다.\n",
        "`requires_grad`를 `False`로 두는 경우, gradient 계산 및 업데이트가 이루어지지 않아 결과적으로 학습이 되지 않습니다.\n",
        "즉, 마지막 `classifier`에 해당하는 linear layer만 학습이 이루어집니다.\n",
        "이런 식으로 특정 부분들을 freeze하게 되면 효율적으로 학습을 할 수 있습니다.\n",
        "\n",
        "마지막으로 이전과 같은 코드를 사용하여 학습 결과를 확인해봅시다."
      ]
    },
    {
      "cell_type": "markdown",
      "source": [
        "### 출력 차원 조절에 따른 accuracy 함수 수정"
      ],
      "metadata": {
        "id": "Zyk-sCAJS1YW"
      }
    },
    {
      "cell_type": "code",
      "execution_count": null,
      "metadata": {
        "id": "DjphVwXL00E2"
      },
      "outputs": [],
      "source": [
        "def accuracy(model, dataloader):\n",
        "  cnt = 0\n",
        "  acc = 0\n",
        "\n",
        "  with torch.no_grad():\n",
        "    model.eval()\n",
        "    for data in dataloader:\n",
        "      inputs, labels = data\n",
        "      inputs, labels = inputs.to('cuda'), labels.to('cuda')\n",
        "\n",
        "      preds = model(inputs)\n",
        "      preds = torch.argmax(preds, dim=-1)\n",
        "      # preds = (preds > 0).long()[..., 0]\n",
        "\n",
        "      cnt += labels.shape[0]\n",
        "      acc += (labels == preds).sum().item()\n",
        "\n",
        "  return acc / cnt\n",
        "\n"
      ]
    },
    {
      "cell_type": "markdown",
      "source": [
        "## nn.CrossEntropyLoss로 변경"
      ],
      "metadata": {
        "id": "1-gnisJ-7L9E"
      }
    },
    {
      "cell_type": "code",
      "execution_count": null,
      "metadata": {
        "colab": {
          "base_uri": "https://localhost:8080/"
        },
        "id": "XvvaAEwCznt-",
        "outputId": "4050fdf9-2697-4e07-965e-49905d355a66"
      },
      "outputs": [
        {
          "name": "stderr",
          "output_type": "stream",
          "text": [
            "We strongly recommend passing in an `attention_mask` since your input_ids may be padded. See https://huggingface.co/docs/transformers/troubleshooting#incorrect-output-when-padding-tokens-arent-masked.\n"
          ]
        },
        {
          "name": "stdout",
          "output_type": "stream",
          "text": [
            "Epoch   0 | Train Loss: 888.5515608787537\n",
            "Epoch   1 | Train Loss: 699.0446733534336\n",
            "Epoch   2 | Train Loss: 672.535823918879\n",
            "Epoch   3 | Train Loss: 656.2747274115682\n",
            "Epoch   4 | Train Loss: 652.4208410605788\n",
            "Epoch   5 | Train Loss: 646.1950311660767\n",
            "Epoch   6 | Train Loss: 641.2127779498696\n",
            "Epoch   7 | Train Loss: 637.7196315377951\n",
            "Epoch   8 | Train Loss: 637.1767690107226\n",
            "Epoch   9 | Train Loss: 632.4191472008824\n"
          ]
        }
      ],
      "source": [
        "from torch.optim import Adam\n",
        "import numpy as np\n",
        "import matplotlib.pyplot as plt\n",
        "\n",
        "train_acc_list = []\n",
        "test_acc_list = []\n",
        "\n",
        "lr = 0.001\n",
        "model = model.to('cuda')\n",
        "loss_fn = nn.CrossEntropyLoss()\n",
        "# loss_fn = nn.BCEWithLogitsLoss()\n",
        "\n",
        "\n",
        "optimizer = Adam(model.parameters(), lr=lr)\n",
        "n_epochs = 10\n",
        "\n",
        "for epoch in range(n_epochs):\n",
        "  total_loss = 0.\n",
        "  model.train()\n",
        "  for data in train_loader:\n",
        "    model.zero_grad()\n",
        "    inputs, labels = data\n",
        "    inputs, labels = inputs.to('cuda'), labels.to('cuda')\n",
        "\n",
        "    preds = model(inputs)  #nn.CrossEntropyLoss()으로 변경에 따른 수정\n",
        "    loss = loss_fn(preds, labels)\n",
        "    loss.backward()\n",
        "    optimizer.step()\n",
        "\n",
        "    total_loss += loss.item()\n",
        "\n",
        "  train_acc_list.append(accuracy(model, train_loader))\n",
        "  test_acc_list.append(accuracy(model, test_loader))\n",
        "\n",
        "\n",
        "  print(f\"Epoch {epoch:3d} | Train Loss: {total_loss}\")"
      ]
    },
    {
      "cell_type": "markdown",
      "source": [
        "# 학습 결과 Report"
      ],
      "metadata": {
        "id": "1K0c1IN68dQC"
      }
    },
    {
      "cell_type": "markdown",
      "source": [
        "### epoch 마다 train, test의 정확도를 보여주는 plot 입니다."
      ],
      "metadata": {
        "id": "SjqmKLLo7tzr"
      }
    },
    {
      "cell_type": "code",
      "execution_count": null,
      "metadata": {
        "id": "Foks5u95ZQ1_",
        "outputId": "17c07dff-08d1-4168-8b6e-ff8a49192fce"
      },
      "outputs": [
        {
          "data": {
            "image/png": "[encoded data removed]",
            "text/plain": [
              "<Figure size 640x480 with 1 Axes>"
            ]
          },
          "metadata": {},
          "output_type": "display_data"
        }
      ],
      "source": [
        "import matplotlib.pyplot as plt\n",
        "\n",
        "def plot_acc(trainloader_acc, testloader_acc, label1='train', label2='test'):\n",
        "  x = np.arange(len(trainloader_acc))\n",
        "\n",
        "  plt.plot(x, trainloader_acc, label=label1)\n",
        "  plt.plot(x, testloader_acc, label=label2)\n",
        "  plt.legend()\n",
        "  plt.show()\n",
        "\n",
        "# plot하는 함수 사용\n",
        "plot_acc(train_acc_list, test_acc_list)"
      ]
    },
    {
      "cell_type": "markdown",
      "source": [
        "위의 plot을 보면 train과 test가 정확도가 비슷하게 가고 있는 것을 알 수 있으면서, 중간에 정확도가 떨어지긴 했지만 마지막에는 제일 정확도가 높은 것을 알 수 있다."
      ],
      "metadata": {
        "id": "1FPFV7xo7s5L"
      }
    },
    {
      "cell_type": "markdown",
      "source": [
        "## 최종 모델의 train과 test의 정확도 입니다."
      ],
      "metadata": {
        "id": "dd6LBYJc8qr5"
      }
    },
    {
      "cell_type": "code",
      "execution_count": null,
      "metadata": {
        "id": "l1y9f9RMPTPV",
        "outputId": "5268ab3a-d94d-4576-9bb8-5b545038624a"
      },
      "outputs": [
        {
          "name": "stdout",
          "output_type": "stream",
          "text": [
            "=========> Train acc: 0.894 | Test acc: 0.891\n"
          ]
        }
      ],
      "source": [
        "with torch.no_grad():\n",
        "  model.eval()\n",
        "  train_acc = accuracy(model, train_loader)\n",
        "  test_acc = accuracy(model, test_loader)\n",
        "  print(f\"=========> Train acc: {train_acc:.3f} | Test acc: {test_acc:.3f}\")"
      ]
    }
  ],
  "metadata": {
    "accelerator": "GPU",
    "colab": {
      "gpuType": "T4",
      "provenance": [],
      "toc_visible": true,
      "include_colab_link": true
    },
    "kernelspec": {
      "display_name": "Python 3",
      "name": "python3"
    },
    "language_info": {
      "codemirror_mode": {
        "name": "ipython",
        "version": 3
      },
      "file_extension": ".py",
      "mimetype": "text/x-python",
      "name": "python",
      "nbconvert_exporter": "python",
      "pygments_lexer": "ipython3",
      "version": "3.11.9"
    }
  },
  "nbformat": 4,
  "nbformat_minor": 0
}