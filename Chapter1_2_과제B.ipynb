{
  "cells": [
    {
      "cell_type": "markdown",
      "metadata": {
        "id": "view-in-github",
        "colab_type": "text"
      },
      "source": [
        "<a href=\"https://colab.research.google.com/github/hanghae-plus-AI/AI-1-hyeondata/blob/main/Chapter1_2_%EA%B3%BC%EC%A0%9CB.ipynb\" target=\"_parent\"><img src=\"https://colab.research.google.com/assets/colab-badge.svg\" alt=\"Open In Colab\"/></a>"
      ]
    },
    {
      "cell_type": "markdown",
      "metadata": {
        "id": "ymxatB5WYxlL"
      },
      "source": [
        "# Transformer 실습\n",
        "\n",
        "이번 실습에서는 감정 분석 task에 RNN 대신 Transformer를 구현하여 적용해 볼 것입니다.\n",
        "Library import나 dataloader 생성은 RNN 실습 때와 똑같기 때문에 설명은 넘어가도록 하겠습니다."
      ]
    },
    {
      "cell_type": "code",
      "execution_count": 1,
      "metadata": {
        "id": "1X7RM2du1zcr",
        "outputId": "80c5da88-af42-48a7-ce43-1f8522931eba",
        "colab": {
          "base_uri": "https://localhost:8080/"
        }
      },
      "outputs": [
        {
          "output_type": "stream",
          "name": "stdout",
          "text": [
            "/bin/bash: -c: line 2: syntax error: unexpected end of file\n"
          ]
        }
      ],
      "source": [
        "!pip install datasets|"
      ]
    },
    {
      "cell_type": "code",
      "source": [
        "!pip install sacremoses\n",
        "# 아래 코드 실행 시 RuntimeError: Missing dependencies: sacremoses 에러가 나서 추가"
      ],
      "metadata": {
        "colab": {
          "base_uri": "https://localhost:8080/"
        },
        "id": "DmU75SQehxAh",
        "outputId": "84b00ba3-33f8-4059-963c-ef9bb56f5ece"
      },
      "execution_count": 2,
      "outputs": [
        {
          "output_type": "stream",
          "name": "stdout",
          "text": [
            "Requirement already satisfied: sacremoses in /usr/local/lib/python3.10/dist-packages (0.1.1)\n",
            "Requirement already satisfied: regex in /usr/local/lib/python3.10/dist-packages (from sacremoses) (2024.9.11)\n",
            "Requirement already satisfied: click in /usr/local/lib/python3.10/dist-packages (from sacremoses) (8.1.7)\n",
            "Requirement already satisfied: joblib in /usr/local/lib/python3.10/dist-packages (from sacremoses) (1.4.2)\n",
            "Requirement already satisfied: tqdm in /usr/local/lib/python3.10/dist-packages (from sacremoses) (4.66.5)\n"
          ]
        }
      ]
    },
    {
      "cell_type": "code",
      "execution_count": 3,
      "metadata": {
        "id": "HOdhoBVA1zcu",
        "colab": {
          "base_uri": "https://localhost:8080/"
        },
        "outputId": "23830edb-5021-4a5d-8cac-dc322c7ffbfd"
      },
      "outputs": [
        {
          "output_type": "stream",
          "name": "stderr",
          "text": [
            "/usr/local/lib/python3.10/dist-packages/huggingface_hub/utils/_token.py:89: UserWarning: \n",
            "The secret `HF_TOKEN` does not exist in your Colab secrets.\n",
            "To authenticate with the Hugging Face Hub, create a token in your settings tab (https://huggingface.co/settings/tokens), set it as secret in your Google Colab and restart your session.\n",
            "You will be able to reuse this secret in all of your notebooks.\n",
            "Please note that authentication is recommended but still optional to access public models or datasets.\n",
            "  warnings.warn(\n",
            "Using cache found in /root/.cache/torch/hub/huggingface_pytorch-transformers_main\n",
            "/usr/local/lib/python3.10/dist-packages/transformers/tokenization_utils_base.py:1601: FutureWarning: `clean_up_tokenization_spaces` was not set. It will be set to `True` by default. This behavior will be depracted in transformers v4.45, and will be then set to `False` by default. For more details check this issue: https://github.com/huggingface/transformers/issues/31884\n",
            "  warnings.warn(\n"
          ]
        }
      ],
      "source": [
        "import torch\n",
        "from datasets import load_dataset\n",
        "from torch.utils.data import DataLoader\n",
        "from transformers import BertTokenizerFast\n",
        "from tokenizers import (\n",
        "    decoders,\n",
        "    models,\n",
        "    normalizers,\n",
        "    pre_tokenizers,\n",
        "    processors,\n",
        "    trainers,\n",
        "    Tokenizer,\n",
        ")\n",
        "\n",
        "\n",
        "ds = load_dataset(\"stanfordnlp/imdb\")\n",
        "tokenizer = torch.hub.load('huggingface/pytorch-transformers', 'tokenizer', 'bert-base-uncased')\n",
        "\n",
        "\n",
        "def collate_fn(batch):\n",
        "  max_len = 400\n",
        "  texts, labels = [], []\n",
        "  for row in batch:\n",
        "    labels.append(row['label'])\n",
        "    texts.append(row['text'])\n",
        "\n",
        "  texts = torch.LongTensor(tokenizer(texts, padding=True, truncation=True, max_length=max_len).input_ids)\n",
        "  labels = torch.LongTensor(labels)\n",
        "\n",
        "  return texts, labels\n",
        "\n",
        "\n",
        "train_loader = DataLoader(\n",
        "    ds['train'], batch_size=64, shuffle=True, collate_fn=collate_fn\n",
        ")\n",
        "test_loader = DataLoader(\n",
        "    ds['test'], batch_size=64, shuffle=False, collate_fn=collate_fn\n",
        ")"
      ]
    },
    {
      "cell_type": "markdown",
      "metadata": {
        "id": "i-FshZcTZBQ2"
      },
      "source": [
        "## Self-attention\n",
        "\n",
        "이번에는 self-attention을 구현해보겠습니다.\n",
        "Self-attention은 shape이 (B, S, D)인 embedding이 들어왔을 때 attention을 적용하여 새로운 representation을 만들어내는 module입니다.\n",
        "여기서 B는 batch size, S는 sequence length, D는 embedding 차원입니다.\n",
        "구현은 다음과 같습니다."
      ]
    },
    {
      "cell_type": "code",
      "execution_count": 3,
      "metadata": {
        "id": "MBlMVMZcRAxv"
      },
      "outputs": [],
      "source": [
        "from torch import nn\n",
        "from math import sqrt\n",
        "\n",
        "\n",
        "class SelfAttention(nn.Module):\n",
        "  def __init__(self, input_dim, d_model):\n",
        "    super().__init__()\n",
        "\n",
        "    self.input_dim = input_dim\n",
        "    self.d_model = d_model\n",
        "\n",
        "    self.wq = nn.Linear(input_dim, d_model)\n",
        "    self.wk = nn.Linear(input_dim, d_model)\n",
        "    self.wv = nn.Linear(input_dim, d_model)\n",
        "    self.dense = nn.Linear(d_model, d_model)\n",
        "\n",
        "    self.softmax = nn.Softmax(dim=-1)\n",
        "\n",
        "  def forward(self, x, mask):\n",
        "    q, k, v = self.wq(x), self.wk(x), self.wv(x)\n",
        "    score = torch.matmul(q, k.transpose(-1, -2)) # (B, S, D) * (B, D, S) = (B, S, S)\n",
        "    score = score / sqrt(self.d_model)\n",
        "\n",
        "    if mask is not None:\n",
        "      score = score + (mask * -1e9)\n",
        "\n",
        "    score = self.softmax(score)\n",
        "    result = torch.matmul(score, v)\n",
        "    result = self.dense(result)\n",
        "\n",
        "    return result"
      ]
    },
    {
      "cell_type": "markdown",
      "metadata": {
        "id": "-S0vMp85ZRNO"
      },
      "source": [
        "대부분은 Transformer 챕터에서 배운 수식들을 그대로 구현한 것에 불과합니다.\n",
        "차이점은 `mask`의 존재여부입니다.\n",
        "이전 챕터에서 우리는 가변적인 text data들에 padding token을 붙여 하나의 matrix로 만든 방법을 배웠습니다.\n",
        "실제 attention 계산에서는 이를 무시해주기 위해 mask를 만들어 제공해주게 됩니다.\n",
        "여기서 mask의 shape은 (B, S, 1)로, 만약 `mask[i, j] = True`이면 그 변수는 padding token에 해당한다는 뜻입니다.\n",
        "이러한 값들을 무시해주는 방법은 shape이 (B, S, S)인 `score`가 있을 때(수업에서 배운 $A$와 동일) `score[i, j]`에 아주 작은 값을 더해주면 됩니다. 아주 작은 값은 예를 들어 `-1000..00 = -1e9` 같은 것이 있습니다.\n",
        "이렇게 작은 값을 더해주고 나면 softmax를 거쳤을 때 0에 가까워지기 때문에 weighted sum 과정에서 padding token에 해당하는 `v` 값들을 무시할 수 있게 됩니다.\n",
        "\n",
        "다음은 self-attention과 feed-forward layer를 구현한 모습입니다."
      ]
    },
    {
      "cell_type": "code",
      "execution_count": 5,
      "metadata": {
        "id": "VZHPCn9AS5Gp"
      },
      "outputs": [],
      "source": [
        "class TransformerLayer(nn.Module):\n",
        "  def __init__(self, input_dim, d_model, dff):\n",
        "    super().__init__()\n",
        "\n",
        "    self.input_dim = input_dim\n",
        "    self.d_model = d_model\n",
        "    self.dff = dff\n",
        "\n",
        "    self.sa = SelfAttention(input_dim, d_model)\n",
        "    self.ffn = nn.Sequential(\n",
        "      nn.Linear(d_model, dff),\n",
        "      nn.ReLU(),\n",
        "      nn.Linear(dff, d_model)\n",
        "    )\n",
        "\n",
        "  def forward(self, x, mask):\n",
        "    x = self.sa(x, mask)\n",
        "    x = self.ffn(x)\n",
        "\n",
        "    return x"
      ]
    },
    {
      "cell_type": "markdown",
      "metadata": {
        "id": "O_xC9BQJaU4q"
      },
      "source": [
        "보시다시피 self-attention의 구현이 어렵지, Transformer layer 하나 구현하는 것은 수업 때 다룬 그림과 크게 구분되지 않는다는 점을 알 수 있습니다."
      ]
    },
    {
      "cell_type": "markdown",
      "metadata": {
        "id": "J3VYrqTJagS1"
      },
      "source": [
        "## Positional encoding\n",
        "\n",
        "이번에는 positional encoding을 구현합니다. Positional encoding의 식은 다음과 같습니다:\n",
        "$$\n",
        "\\begin{align*} PE_{pos, 2i} &= \\sin\\left( \\frac{pos}{10000^{2i/D}} \\right), \\\\ PE_{pos, 2i+1} &= \\cos\\left( \\frac{pos}{10000^{2i/D}} \\right).\\end{align*}\n",
        "$$\n",
        "\n",
        "이를 Numpy로 구현하여 PyTorch tensor로 변환한 모습은 다음과 같습니다:"
      ]
    },
    {
      "cell_type": "code",
      "execution_count": 6,
      "metadata": {
        "colab": {
          "base_uri": "https://localhost:8080/"
        },
        "id": "Uf_jMQWDUR79",
        "outputId": "29b0b8c5-50dd-4ea0-b992-fca1a8ab160b"
      },
      "outputs": [
        {
          "output_type": "stream",
          "name": "stdout",
          "text": [
            "torch.Size([1, 400, 256])\n"
          ]
        }
      ],
      "source": [
        "import numpy as np\n",
        "\n",
        "\n",
        "def get_angles(pos, i, d_model):\n",
        "    angle_rates = 1 / np.power(10000, (2 * (i // 2)) / np.float32(d_model))\n",
        "    return pos * angle_rates\n",
        "\n",
        "def positional_encoding(position, d_model):\n",
        "    angle_rads = get_angles(np.arange(position)[:, None], np.arange(d_model)[None, :], d_model)\n",
        "    angle_rads[:, 0::2] = np.sin(angle_rads[:, 0::2])\n",
        "    angle_rads[:, 1::2] = np.cos(angle_rads[:, 1::2])\n",
        "    pos_encoding = angle_rads[None, ...]\n",
        "\n",
        "    return torch.FloatTensor(pos_encoding)\n",
        "\n",
        "\n",
        "max_len = 400\n",
        "print(positional_encoding(max_len, 256).shape)"
      ]
    },
    {
      "cell_type": "markdown",
      "metadata": {
        "id": "5unoDcBva3eN"
      },
      "source": [
        "Positional encoding은 `angle_rads`를 구현하는 과정에서 모두 구현이 되었습니다. 여기서 `angle_rads`의 shape은 (S, D)입니다.\n",
        "우리는 일반적으로 batch로 주어지는 shape이 (B, S, D)인 tensor를 다루기 때문에 마지막에 None을 활용하여 shape을 (1, S, D)로 바꿔주게됩니다.\n",
        "\n",
        "위에서 구현한 `TransformerLayer`와 positional encoding을 모두 합친 모습은 다음과 같습니다:"
      ]
    },
    {
      "cell_type": "code",
      "execution_count": 7,
      "metadata": {
        "id": "8MaiCGh8TsDH"
      },
      "outputs": [],
      "source": [
        "class TextClassifier(nn.Module):\n",
        "  def __init__(self, vocab_size, d_model, n_layers, dff):\n",
        "    super().__init__()\n",
        "\n",
        "    self.vocab_size = vocab_size\n",
        "    self.d_model = d_model\n",
        "    self.n_layers = n_layers\n",
        "    self.dff = dff\n",
        "\n",
        "    self.embedding = nn.Embedding(vocab_size, d_model)\n",
        "    self.pos_encoding = nn.parameter.Parameter(positional_encoding(max_len, d_model), requires_grad=False)\n",
        "    self.layers = nn.ModuleList([TransformerLayer(d_model, d_model, dff) for _ in range(n_layers)])\n",
        "    self.classification = nn.Linear(d_model, 1)\n",
        "\n",
        "  def forward(self, x):\n",
        "    mask = (x == tokenizer.pad_token_id)\n",
        "    mask = mask[:, None, :]\n",
        "    seq_len = x.shape[1]\n",
        "\n",
        "    x = self.embedding(x)\n",
        "    x = x * sqrt(self.d_model)\n",
        "    x = x + self.pos_encoding[:, :seq_len]\n",
        "\n",
        "    for layer in self.layers:\n",
        "      x = layer(x, mask)\n",
        "\n",
        "    x = x[:, 0]\n",
        "    x = self.classification(x)\n",
        "\n",
        "    return x\n",
        "\n",
        "\n",
        "model = TextClassifier(len(tokenizer), 32, 2, 32)"
      ]
    },
    {
      "cell_type": "markdown",
      "metadata": {
        "id": "XXpjPWHjbUK8"
      },
      "source": [
        "기존과 다른 점들은 다음과 같습니다:\n",
        "1. `nn.ModuleList`를 사용하여 여러 layer의 구현을 쉽게 하였습니다.\n",
        "2. Embedding, positional encoding, transformer layer를 거치고 난 후 마지막 label을 예측하기 위해 사용한 값은 `x[:, 0]`입니다. 기존의 RNN에서는 padding token을 제외한 마지막 token에 해당하는 representation을 사용한 것과 다릅니다. 이렇게 사용할 수 있는 이유는 attention 과정을 보시면 첫 번째 token에 대한 representation은 이후의 모든 token의 영향을 받습니다. 즉, 첫 번째 token 또한 전체 문장을 대변하는 의미를 가지고 있다고 할 수 있습니다. 그래서 일반적으로 Transformer를 text 분류에 사용할 때는 이와 같은 방식으로 구현됩니다."
      ]
    },
    {
      "cell_type": "markdown",
      "metadata": {
        "id": "QDq05OlAb2lB"
      },
      "source": [
        "## 학습\n",
        "\n",
        "학습하는 코드는 기존 실습들과 동일하기 때문에 마지막 결과만 살펴보도록 하겠습니다."
      ]
    },
    {
      "cell_type": "code",
      "execution_count": 8,
      "metadata": {
        "id": "YHVVsWBPQmnv"
      },
      "outputs": [],
      "source": [
        "from torch.optim import Adam\n",
        "\n",
        "lr = 0.001\n",
        "model = model.to('cuda')\n",
        "loss_fn = nn.BCEWithLogitsLoss()\n",
        "\n",
        "optimizer = Adam(model.parameters(), lr=lr)"
      ]
    },
    {
      "cell_type": "code",
      "execution_count": 10,
      "metadata": {
        "id": "r88BALxO1zc1"
      },
      "outputs": [],
      "source": [
        "import numpy as np\n",
        "import matplotlib.pyplot as plt\n",
        "\n",
        "\n",
        "def accuracy(model, dataloader):\n",
        "  cnt = 0\n",
        "  acc = 0\n",
        "\n",
        "  for data in dataloader:\n",
        "    inputs, labels = data\n",
        "    inputs, labels = inputs.to('cuda'), labels.to('cuda')\n",
        "\n",
        "    preds = model(inputs)\n",
        "    # preds = torch.argmax(preds, dim=-1)\n",
        "    preds = (preds > 0).long()[..., 0]\n",
        "\n",
        "    cnt += labels.shape[0]\n",
        "    acc += (labels == preds).sum().item()\n",
        "\n",
        "  return acc / cnt"
      ]
    },
    {
      "cell_type": "code",
      "execution_count": 10,
      "metadata": {
        "id": "al_b56TYRILq",
        "colab": {
          "base_uri": "https://localhost:8080/"
        },
        "outputId": "314bb0bd-5501-4917-80df-f79736a20d9e",
        "collapsed": true
      },
      "outputs": [
        {
          "output_type": "stream",
          "name": "stdout",
          "text": [
            "Epoch   0 | Train Loss: 242.20440170168877\n",
            "=========> Train acc: 0.744 | Test acc: 0.718\n",
            "Epoch   1 | Train Loss: 185.22721248865128\n",
            "=========> Train acc: 0.821 | Test acc: 0.773\n",
            "Epoch   2 | Train Loss: 156.0751973837614\n",
            "=========> Train acc: 0.859 | Test acc: 0.791\n",
            "Epoch   3 | Train Loss: 132.0757782906294\n",
            "=========> Train acc: 0.882 | Test acc: 0.795\n",
            "Epoch   4 | Train Loss: 112.07879155874252\n",
            "=========> Train acc: 0.904 | Test acc: 0.792\n",
            "Epoch   5 | Train Loss: 95.62841914594173\n",
            "=========> Train acc: 0.934 | Test acc: 0.798\n",
            "Epoch   6 | Train Loss: 78.65711183100939\n",
            "=========> Train acc: 0.948 | Test acc: 0.797\n",
            "Epoch   7 | Train Loss: 63.71846041828394\n",
            "=========> Train acc: 0.962 | Test acc: 0.798\n",
            "Epoch   8 | Train Loss: 50.561754047870636\n",
            "=========> Train acc: 0.974 | Test acc: 0.795\n",
            "Epoch   9 | Train Loss: 39.95337771065533\n",
            "=========> Train acc: 0.973 | Test acc: 0.786\n",
            "Epoch  10 | Train Loss: 31.669904701411724\n",
            "=========> Train acc: 0.976 | Test acc: 0.790\n",
            "Epoch  11 | Train Loss: 27.963890011422336\n",
            "=========> Train acc: 0.987 | Test acc: 0.790\n",
            "Epoch  12 | Train Loss: 22.174960885196924\n",
            "=========> Train acc: 0.989 | Test acc: 0.793\n",
            "Epoch  13 | Train Loss: 16.85430996515788\n",
            "=========> Train acc: 0.990 | Test acc: 0.789\n",
            "Epoch  14 | Train Loss: 16.444726748857647\n",
            "=========> Train acc: 0.995 | Test acc: 0.789\n",
            "Epoch  15 | Train Loss: 15.220727610052563\n",
            "=========> Train acc: 0.994 | Test acc: 0.789\n",
            "Epoch  16 | Train Loss: 10.663750625331886\n",
            "=========> Train acc: 0.993 | Test acc: 0.783\n",
            "Epoch  17 | Train Loss: 11.887925464572618\n",
            "=========> Train acc: 0.995 | Test acc: 0.789\n",
            "Epoch  18 | Train Loss: 9.469127970107365\n",
            "=========> Train acc: 0.995 | Test acc: 0.784\n",
            "Epoch  19 | Train Loss: 8.979660097422311\n",
            "=========> Train acc: 0.996 | Test acc: 0.786\n",
            "Epoch  20 | Train Loss: 8.88768348285521\n",
            "=========> Train acc: 0.991 | Test acc: 0.785\n",
            "Epoch  21 | Train Loss: 10.49411653316929\n",
            "=========> Train acc: 0.995 | Test acc: 0.785\n",
            "Epoch  22 | Train Loss: 8.078501288924599\n",
            "=========> Train acc: 0.997 | Test acc: 0.787\n",
            "Epoch  23 | Train Loss: 6.778741567482939\n",
            "=========> Train acc: 0.998 | Test acc: 0.788\n",
            "Epoch  24 | Train Loss: 6.796732569593587\n",
            "=========> Train acc: 0.995 | Test acc: 0.790\n",
            "Epoch  25 | Train Loss: 7.061756916242302\n",
            "=========> Train acc: 0.988 | Test acc: 0.776\n",
            "Epoch  26 | Train Loss: 5.697520449561125\n",
            "=========> Train acc: 0.997 | Test acc: 0.787\n",
            "Epoch  27 | Train Loss: 7.508005623763893\n",
            "=========> Train acc: 0.997 | Test acc: 0.788\n",
            "Epoch  28 | Train Loss: 6.26493113674951\n",
            "=========> Train acc: 0.998 | Test acc: 0.789\n",
            "Epoch  29 | Train Loss: 6.350642855548358\n",
            "=========> Train acc: 0.999 | Test acc: 0.786\n",
            "Epoch  30 | Train Loss: 6.21632560800208\n",
            "=========> Train acc: 0.997 | Test acc: 0.787\n",
            "Epoch  31 | Train Loss: 5.118091608841496\n",
            "=========> Train acc: 0.998 | Test acc: 0.783\n",
            "Epoch  32 | Train Loss: 4.050195169358631\n",
            "=========> Train acc: 0.998 | Test acc: 0.787\n",
            "Epoch  33 | Train Loss: 6.168669400041836\n",
            "=========> Train acc: 0.991 | Test acc: 0.779\n",
            "Epoch  34 | Train Loss: 5.277608262462309\n",
            "=========> Train acc: 0.998 | Test acc: 0.786\n",
            "Epoch  35 | Train Loss: 2.9085362541773065\n",
            "=========> Train acc: 0.998 | Test acc: 0.789\n",
            "Epoch  36 | Train Loss: 5.135905550629104\n",
            "=========> Train acc: 0.997 | Test acc: 0.783\n",
            "Epoch  37 | Train Loss: 6.013907073916926\n",
            "=========> Train acc: 0.995 | Test acc: 0.790\n",
            "Epoch  38 | Train Loss: 4.9401625041591615\n",
            "=========> Train acc: 0.999 | Test acc: 0.789\n",
            "Epoch  39 | Train Loss: 3.719964402713231\n",
            "=========> Train acc: 0.999 | Test acc: 0.788\n",
            "Epoch  40 | Train Loss: 4.250296534463814\n",
            "=========> Train acc: 0.997 | Test acc: 0.785\n",
            "Epoch  41 | Train Loss: 6.196765636010241\n",
            "=========> Train acc: 0.996 | Test acc: 0.781\n",
            "Epoch  42 | Train Loss: 5.7806507177811\n",
            "=========> Train acc: 0.997 | Test acc: 0.784\n",
            "Epoch  43 | Train Loss: 3.331192533607009\n",
            "=========> Train acc: 0.994 | Test acc: 0.786\n",
            "Epoch  44 | Train Loss: 4.365390062150254\n",
            "=========> Train acc: 0.998 | Test acc: 0.788\n",
            "Epoch  45 | Train Loss: 4.6549555812707695\n",
            "=========> Train acc: 0.998 | Test acc: 0.789\n",
            "Epoch  46 | Train Loss: 4.026741113684693\n",
            "=========> Train acc: 0.999 | Test acc: 0.787\n",
            "Epoch  47 | Train Loss: 3.123783349144105\n",
            "=========> Train acc: 0.998 | Test acc: 0.788\n",
            "Epoch  48 | Train Loss: 3.775129931354968\n",
            "=========> Train acc: 0.997 | Test acc: 0.784\n",
            "Epoch  49 | Train Loss: 3.878388103965335\n",
            "=========> Train acc: 0.999 | Test acc: 0.786\n"
          ]
        }
      ],
      "source": [
        "n_epochs = 50\n",
        "\n",
        "for epoch in range(n_epochs):\n",
        "  total_loss = 0.\n",
        "  model.train()\n",
        "  for data in train_loader:\n",
        "    model.zero_grad()\n",
        "    inputs, labels = data\n",
        "    inputs, labels = inputs.to('cuda'), labels.to('cuda').float()\n",
        "\n",
        "    preds = model(inputs)[..., 0]\n",
        "    loss = loss_fn(preds, labels)\n",
        "    loss.backward()\n",
        "    optimizer.step()\n",
        "\n",
        "    total_loss += loss.item()\n",
        "\n",
        "  print(f\"Epoch {epoch:3d} | Train Loss: {total_loss}\")\n",
        "\n",
        "  with torch.no_grad():\n",
        "    model.eval()\n",
        "    train_acc = accuracy(model, train_loader)\n",
        "    test_acc = accuracy(model, test_loader)\n",
        "    print(f\"=========> Train acc: {train_acc:.3f} | Test acc: {test_acc:.3f}\")"
      ]
    },
    {
      "cell_type": "markdown",
      "metadata": {
        "id": "WqZays2yb8Ja"
      },
      "source": [
        "학습이 안정적으로 진행되며 RNN보다 빨리 수렴하는 것을 확인할 수 있습니다.\n",
        "하지만 test 정확도가 RNN보다 낮은 것을 보았을 때, overfitting에 취약하다는 것을 알 수 있습니다."
      ]
    },
    {
      "cell_type": "markdown",
      "source": [
        "# 과제 B. 주어진 문장에서 나올 다음 단어를 예측하는 모델 구현"
      ],
      "metadata": {
        "id": "0MMkqzTAMp6E"
      }
    },
    {
      "cell_type": "markdown",
      "source": [
        "-  Last word prediction dataset 준비\n",
        "    - 기존의 IMDB dataset을 그대로 활용합니다.\n",
        "    - `collate_fn` 함수에 다음 수정사항들을 반영하면 됩니다.\n",
        "        - Label은 text를 token으로 변환했을 때 마지막에서 두 번째 token의 id로 설정합니다.\n",
        "        - 입력 data는 마지막 두 token을 제외한 나머지 token들의 list로 설정합니다.\n",
        "    - `from torch.nn.utils.rnn import pad_sequence`를 import해서 사용하셔도 좋습니다.\n",
        "    - Truncation은 기존과 똑같이 진행하시면 됩니다.\n",
        "-  Loss function 및 classifier output 변경\n",
        "    - 마지막 token id를 예측하는 것이기 때문에 binary classification이 아닌 일반적인 classification 문제로 바뀝니다. MNIST 과제에서 했던 것 처럼 `nn.CrossEntropy` loss와 `TextClassifier`의 출력 차원을 잘 조정하여 task를 풀 수 있도록 수정하시면 됩니다.\n",
        "-  학습 결과 report\n",
        "    - 과제 A에서 사용한 것과 동일한 모델로 last word prediction을 학습하시면 됩니다."
      ],
      "metadata": {
        "id": "nZu1O_I-Mt0C"
      }
    },
    {
      "cell_type": "markdown",
      "source": [
        "### collate_fn 함수에 다음 수정사항들을 반영\n",
        "Label은 text를 token으로 변환했을 때 마지막에서 두 번째 token의 id로 설정합니다.\n",
        "입력 data는 마지막 두 token을 제외한 나머지 token들의 list로 설정합니다."
      ],
      "metadata": {
        "id": "C7W13p5VOsmO"
      }
    },
    {
      "cell_type": "code",
      "source": [
        "import torch\n",
        "from datasets import load_dataset\n",
        "from torch.utils.data import DataLoader\n",
        "from transformers import BertTokenizerFast\n",
        "from torch.nn.utils.rnn import pad_sequence\n",
        "\n",
        "from tokenizers import (\n",
        "    decoders,\n",
        "    models,\n",
        "    normalizers,\n",
        "    pre_tokenizers,\n",
        "    processors,\n",
        "    trainers,\n",
        "    Tokenizer,\n",
        ")\n",
        "\n",
        "\n",
        "ds = load_dataset(\"stanfordnlp/imdb\")\n",
        "tokenizer = torch.hub.load('huggingface/pytorch-transformers', 'tokenizer', 'bert-base-uncased')\n",
        "\n",
        "\n",
        "def collate_fn(batch):\n",
        "  max_len = 400\n",
        "  texts, labels = [], []\n",
        "\n",
        "  for row in batch:\n",
        "    tokens = tokenizer(row['text'], padding=True, truncation=True, max_length=max_len).input_ids # 토큰화\n",
        "    labels.append(tokens[-2]) # 마지막에서 두 번째 token의 id로 설정\n",
        "    texts.append(tokens[:-2]) # 마지막에서 두 번째 token의 id로 설정\n",
        "\n",
        "  # pad_sequence 함수를 사용하여 padding처리\n",
        "  texts = pad_sequence([torch.LongTensor(text) for text in texts], batch_first=True, padding_value=tokenizer.pad_token_id)\n",
        "  labels = torch.LongTensor(labels)\n",
        "\n",
        "\n",
        "  return texts, labels\n",
        "\n",
        "\n",
        "train_loader = DataLoader(\n",
        "    ds['train'], batch_size=64, shuffle=True, collate_fn=collate_fn\n",
        ")\n",
        "test_loader = DataLoader(\n",
        "    ds['test'], batch_size=64, shuffle=False, collate_fn=collate_fn\n",
        ")"
      ],
      "metadata": {
        "id": "72rsnh1NERWd",
        "colab": {
          "base_uri": "https://localhost:8080/"
        },
        "outputId": "2732c656-4cf3-45aa-b0f0-4dc3ac5b5111"
      },
      "execution_count": 4,
      "outputs": [
        {
          "output_type": "stream",
          "name": "stderr",
          "text": [
            "/usr/local/lib/python3.10/dist-packages/huggingface_hub/utils/_token.py:89: UserWarning: \n",
            "The secret `HF_TOKEN` does not exist in your Colab secrets.\n",
            "To authenticate with the Hugging Face Hub, create a token in your settings tab (https://huggingface.co/settings/tokens), set it as secret in your Google Colab and restart your session.\n",
            "You will be able to reuse this secret in all of your notebooks.\n",
            "Please note that authentication is recommended but still optional to access public models or datasets.\n",
            "  warnings.warn(\n",
            "Using cache found in /root/.cache/torch/hub/huggingface_pytorch-transformers_main\n",
            "/usr/local/lib/python3.10/dist-packages/transformers/tokenization_utils_base.py:1601: FutureWarning: `clean_up_tokenization_spaces` was not set. It will be set to `True` by default. This behavior will be depracted in transformers v4.45, and will be then set to `False` by default. For more details check this issue: https://github.com/huggingface/transformers/issues/31884\n",
            "  warnings.warn(\n"
          ]
        }
      ]
    },
    {
      "cell_type": "markdown",
      "source": [
        "## 이전에 사용하는 모델 그대로 생성"
      ],
      "metadata": {
        "id": "lqKh3T40TU0w"
      }
    },
    {
      "cell_type": "code",
      "execution_count": 5,
      "metadata": {
        "id": "ldY9pXy2SsBW"
      },
      "outputs": [],
      "source": [
        "from torch import nn\n",
        "from math import sqrt\n",
        "\n",
        "\n",
        "class MultiHeadAttention(nn.Module):\n",
        "  def __init__(self, input_dim, d_model,num_heads):\n",
        "    super().__init__()\n",
        "\n",
        "\n",
        "    assert d_model % num_heads == 0, \"d_model must be divisible by num_heads\" # 제약 조건 D = H * D'\n",
        "\n",
        "    self.input_dim = input_dim\n",
        "    self.d_model = d_model\n",
        "    self.num_heads = num_heads    # head 개수\n",
        "    self.head_dim = d_model // num_heads  # 모델 차원에서 어텐션 헤드 수 만큼 나눠서 떨어지는 값 변수\n",
        "\n",
        "    self.wq = nn.Linear(input_dim, d_model)\n",
        "    self.wk = nn.Linear(input_dim, d_model)\n",
        "    self.wv = nn.Linear(input_dim, d_model)\n",
        "    self.dense = nn.Linear(d_model, d_model)\n",
        "\n",
        "    self.softmax = nn.Softmax(dim=-1)\n",
        "\n",
        "\n",
        "  def forward(self, x, mask):\n",
        "\n",
        "    batch_size, seq_length, _ = x.size()\n",
        "\n",
        "    q = self.wq(x).view(batch_size, seq_length, self.num_heads, self.head_dim).transpose(1, 2) # (B, H, S, D')\n",
        "    k = self.wk(x).view(batch_size, seq_length, self.num_heads, self.head_dim).transpose(1, 2) # (B, H, S, D')\n",
        "    v = self.wv(x).view(batch_size, seq_length, self.num_heads, self.head_dim).transpose(1, 2) # (B, H, S, D')\n",
        "\n",
        "\n",
        "    score = torch.matmul(q, k.transpose(-1, -2))  # (B, H, S, S)\n",
        "    score = score / sqrt(self.d_model)\n",
        "\n",
        "    if mask is not None:\n",
        "      mask = mask.unsqueeze(1)\n",
        "      score = score + (mask * -1e9)\n",
        "\n",
        "    score = self.softmax(score)\n",
        "    result = torch.matmul(score, v)\n",
        "\n",
        "    result = result.transpose(1, 2).contiguous()  # (batch_size, seq_len, n_heads, depth)\n",
        "    result = result.view(batch_size, -1, self.d_model)\n",
        "\n",
        "    result = self.dense(result)\n",
        "\n",
        "    return result"
      ]
    },
    {
      "cell_type": "code",
      "source": [
        "class TransformerLayer(nn.Module):\n",
        "  def __init__(self, input_dim, d_model, dff, num_heads, dropout=0.1):\n",
        "    super().__init__()\n",
        "\n",
        "    self.input_dim = input_dim\n",
        "    self.d_model = d_model\n",
        "    self.dff = dff\n",
        "\n",
        "    self.mha = MultiHeadAttention(input_dim, d_model, num_heads)\n",
        "    self.sa = SelfAttention(input_dim, d_model)\n",
        "    self.ffn = nn.Sequential(\n",
        "      nn.Linear(d_model, dff),\n",
        "      nn.ReLU(),\n",
        "      nn.Linear(dff, d_model)\n",
        "    )\n",
        "    self.layernome = nn.LayerNorm(d_model)\n",
        "    self.dropout = nn.Dropout(dropout)\n",
        "\n",
        "\n",
        "  def forward(self, x, mask):\n",
        "    x1 = self.mha(x, mask)\n",
        "    x1 = self.dropout(x1)\n",
        "    x1 = self.layernome(x1 + x)\n",
        "\n",
        "    x2 = self.ffn(x1)\n",
        "    x2 = self.dropout(x2)\n",
        "    x2 = self.layernome(x2 + x1)\n",
        "\n",
        "    return x2"
      ],
      "metadata": {
        "id": "d9N-0qN3SsBX"
      },
      "execution_count": 6,
      "outputs": []
    },
    {
      "cell_type": "code",
      "source": [
        "import numpy as np\n",
        "\n",
        "\n",
        "def get_angles(pos, i, d_model):\n",
        "    angle_rates = 1 / np.power(10000, (2 * (i // 2)) / np.float32(d_model))\n",
        "    return pos * angle_rates\n",
        "\n",
        "def positional_encoding(position, d_model):\n",
        "    angle_rads = get_angles(np.arange(position)[:, None], np.arange(d_model)[None, :], d_model)\n",
        "    angle_rads[:, 0::2] = np.sin(angle_rads[:, 0::2])\n",
        "    angle_rads[:, 1::2] = np.cos(angle_rads[:, 1::2])\n",
        "    pos_encoding = angle_rads[None, ...]\n",
        "\n",
        "    return torch.FloatTensor(pos_encoding)\n",
        "\n",
        "\n",
        "max_len = 400\n",
        "print(positional_encoding(max_len, 256).shape)"
      ],
      "metadata": {
        "id": "BdIjNGIVSsBX",
        "colab": {
          "base_uri": "https://localhost:8080/"
        },
        "outputId": "2347ea6e-0bd7-4ec5-d57a-72c0689c5c68"
      },
      "execution_count": 7,
      "outputs": [
        {
          "output_type": "stream",
          "name": "stdout",
          "text": [
            "torch.Size([1, 400, 256])\n"
          ]
        }
      ]
    },
    {
      "cell_type": "markdown",
      "source": [
        "## 학습 전 Loss function 및 classifier output 변경"
      ],
      "metadata": {
        "id": "7RquM8sQTruM"
      }
    },
    {
      "cell_type": "markdown",
      "source": [
        "### classifier output 변경"
      ],
      "metadata": {
        "id": "o-t7ca8NP_mK"
      }
    },
    {
      "cell_type": "code",
      "source": [
        "class TextClassifier(nn.Module):\n",
        "  def __init__(self, vocab_size, d_model, n_layers, dff, n_heads):\n",
        "    super().__init__()\n",
        "\n",
        "    self.vocab_size = vocab_size\n",
        "    self.d_model = d_model\n",
        "    self.n_layers = n_layers\n",
        "    self.dff = dff\n",
        "\n",
        "    self.embedding = nn.Embedding(vocab_size, d_model)\n",
        "    self.pos_encoding = nn.parameter.Parameter(positional_encoding(max_len, d_model), requires_grad=False)\n",
        "    self.layers = nn.ModuleList([TransformerLayer(d_model, d_model, dff, n_heads) for _ in range(n_layers)])\n",
        "    self.classification = nn.Linear(d_model, vocab_size)\n",
        "\n",
        "  def forward(self, x):\n",
        "    mask = (x == tokenizer.pad_token_id)\n",
        "    mask = mask[:, None, :]\n",
        "    seq_len = x.shape[1]\n",
        "\n",
        "    x = self.embedding(x)\n",
        "    x = x * sqrt(self.d_model)\n",
        "    x = x + self.pos_encoding[:, :seq_len]\n",
        "\n",
        "    for layer in self.layers:\n",
        "      x = layer(x, mask)\n",
        "\n",
        "    x = x[:, 0]\n",
        "    x = self.classification(x)\n",
        "\n",
        "    return x\n",
        "\n",
        "\n"
      ],
      "metadata": {
        "id": "ah3HmXKdSsBY"
      },
      "execution_count": 8,
      "outputs": []
    },
    {
      "cell_type": "markdown",
      "source": [
        "### Loss function 변경"
      ],
      "metadata": {
        "id": "NxeqT9qn2mhP"
      }
    },
    {
      "cell_type": "code",
      "source": [
        "from torch.optim import Adam\n",
        "\n",
        "model = TextClassifier(len(tokenizer), 32, 5, 32, 4)\n",
        "\n",
        "lr = 0.001\n",
        "model = model.to('cuda')\n",
        "loss_fn = nn.CrossEntropyLoss()\n",
        "\n",
        "optimizer = Adam(model.parameters(), lr=lr)"
      ],
      "metadata": {
        "id": "4UBHzoiVSsBY"
      },
      "execution_count": 9,
      "outputs": []
    },
    {
      "cell_type": "code",
      "source": [
        "import numpy as np\n",
        "import matplotlib.pyplot as plt\n",
        "\n",
        "\n",
        "def accuracy(model, dataloader):\n",
        "  cnt = 0\n",
        "  acc = 0\n",
        "\n",
        "  for data in dataloader:\n",
        "    inputs, labels = data\n",
        "    inputs, labels = inputs.to('cuda'), labels.to('cuda')\n",
        "\n",
        "    preds = model(inputs)\n",
        "    preds = torch.argmax(preds, dim=-1)\n",
        "    # preds = (preds > 0).long()[..., 0]\n",
        "\n",
        "    cnt += labels.shape[0]\n",
        "    acc += (labels == preds).sum().item()\n",
        "\n",
        "  return acc / cnt"
      ],
      "metadata": {
        "id": "sF7mBn98SsBY"
      },
      "execution_count": 10,
      "outputs": []
    },
    {
      "cell_type": "markdown",
      "source": [
        "## 학습"
      ],
      "metadata": {
        "id": "XXI-U6yOT-d2"
      }
    },
    {
      "cell_type": "code",
      "source": [
        "n_epochs = 50\n",
        "train_acc_list = []\n",
        "test_acc_list = []\n",
        "\n",
        "for epoch in range(n_epochs):\n",
        "  total_loss = 0.\n",
        "  model.train()\n",
        "  for data in train_loader:\n",
        "    model.zero_grad()\n",
        "    inputs, labels = data\n",
        "    inputs, labels = inputs.to('cuda'), labels.to('cuda')\n",
        "\n",
        "    preds = model(inputs)\n",
        "    loss = loss_fn(preds, labels)\n",
        "    loss.backward()\n",
        "    optimizer.step()\n",
        "\n",
        "    total_loss += loss.item()\n",
        "\n",
        "  print(f\"Epoch {epoch:3d} | Train Loss: {total_loss}\")\n",
        "\n",
        "  with torch.no_grad():\n",
        "    model.eval()\n",
        "    train_acc = accuracy(model, train_loader)\n",
        "    test_acc = accuracy(model, test_loader)\n",
        "    train_acc_list.append(train_acc)\n",
        "    test_acc_list.append(test_acc)\n",
        "    print(f\"=========> Train acc: {train_acc:.3f} | Test acc: {test_acc:.3f}\")\n"
      ],
      "metadata": {
        "id": "tUbTXmJeSsBY",
        "colab": {
          "base_uri": "https://localhost:8080/"
        },
        "outputId": "73d122c7-c57f-4062-fffb-6d61ac107824"
      },
      "execution_count": 11,
      "outputs": [
        {
          "output_type": "stream",
          "name": "stdout",
          "text": [
            "Epoch   0 | Train Loss: 1613.5347076654434\n",
            "=========> Train acc: 0.558 | Test acc: 0.564\n",
            "Epoch   1 | Train Loss: 1093.42353785038\n",
            "=========> Train acc: 0.562 | Test acc: 0.568\n",
            "Epoch   2 | Train Loss: 1041.3339952230453\n",
            "=========> Train acc: 0.565 | Test acc: 0.568\n",
            "Epoch   3 | Train Loss: 1010.1270005702972\n",
            "=========> Train acc: 0.572 | Test acc: 0.567\n",
            "Epoch   4 | Train Loss: 983.1121326684952\n",
            "=========> Train acc: 0.577 | Test acc: 0.564\n",
            "Epoch   5 | Train Loss: 959.0938866138458\n",
            "=========> Train acc: 0.582 | Test acc: 0.558\n",
            "Epoch   6 | Train Loss: 931.5368548631668\n",
            "=========> Train acc: 0.583 | Test acc: 0.557\n",
            "Epoch   7 | Train Loss: 903.3898643255234\n",
            "=========> Train acc: 0.602 | Test acc: 0.554\n",
            "Epoch   8 | Train Loss: 873.421527504921\n",
            "=========> Train acc: 0.624 | Test acc: 0.522\n",
            "Epoch   9 | Train Loss: 836.8851833343506\n",
            "=========> Train acc: 0.626 | Test acc: 0.545\n",
            "Epoch  10 | Train Loss: 802.2554181814194\n",
            "=========> Train acc: 0.646 | Test acc: 0.538\n",
            "Epoch  11 | Train Loss: 764.6084160804749\n",
            "=========> Train acc: 0.664 | Test acc: 0.530\n",
            "Epoch  12 | Train Loss: 720.5140054821968\n",
            "=========> Train acc: 0.678 | Test acc: 0.526\n",
            "Epoch  13 | Train Loss: 684.2122807502747\n",
            "=========> Train acc: 0.694 | Test acc: 0.514\n",
            "Epoch  14 | Train Loss: 642.4256222248077\n",
            "=========> Train acc: 0.719 | Test acc: 0.485\n",
            "Epoch  15 | Train Loss: 602.5007568597794\n",
            "=========> Train acc: 0.722 | Test acc: 0.462\n",
            "Epoch  16 | Train Loss: 567.2818785905838\n",
            "=========> Train acc: 0.744 | Test acc: 0.511\n",
            "Epoch  17 | Train Loss: 533.6135409474373\n",
            "=========> Train acc: 0.765 | Test acc: 0.484\n",
            "Epoch  18 | Train Loss: 493.63843762874603\n",
            "=========> Train acc: 0.793 | Test acc: 0.486\n",
            "Epoch  19 | Train Loss: 458.78887462615967\n",
            "=========> Train acc: 0.803 | Test acc: 0.471\n",
            "Epoch  20 | Train Loss: 425.4811645448208\n",
            "=========> Train acc: 0.827 | Test acc: 0.463\n",
            "Epoch  21 | Train Loss: 397.3748542666435\n",
            "=========> Train acc: 0.847 | Test acc: 0.479\n",
            "Epoch  22 | Train Loss: 365.0051572024822\n",
            "=========> Train acc: 0.861 | Test acc: 0.460\n",
            "Epoch  23 | Train Loss: 332.70994207262993\n",
            "=========> Train acc: 0.867 | Test acc: 0.472\n",
            "Epoch  24 | Train Loss: 302.85413375496864\n",
            "=========> Train acc: 0.893 | Test acc: 0.478\n",
            "Epoch  25 | Train Loss: 278.3246894478798\n",
            "=========> Train acc: 0.898 | Test acc: 0.468\n",
            "Epoch  26 | Train Loss: 256.4647467434406\n",
            "=========> Train acc: 0.917 | Test acc: 0.462\n",
            "Epoch  27 | Train Loss: 235.98751360177994\n",
            "=========> Train acc: 0.924 | Test acc: 0.436\n",
            "Epoch  28 | Train Loss: 220.39046761393547\n",
            "=========> Train acc: 0.928 | Test acc: 0.465\n",
            "Epoch  29 | Train Loss: 206.1687300056219\n",
            "=========> Train acc: 0.943 | Test acc: 0.466\n",
            "Epoch  30 | Train Loss: 185.10129015147686\n",
            "=========> Train acc: 0.945 | Test acc: 0.484\n",
            "Epoch  31 | Train Loss: 170.9850128889084\n",
            "=========> Train acc: 0.950 | Test acc: 0.469\n",
            "Epoch  32 | Train Loss: 157.25248259305954\n",
            "=========> Train acc: 0.961 | Test acc: 0.461\n",
            "Epoch  33 | Train Loss: 151.71001422405243\n",
            "=========> Train acc: 0.966 | Test acc: 0.447\n",
            "Epoch  34 | Train Loss: 137.8303575143218\n",
            "=========> Train acc: 0.973 | Test acc: 0.447\n",
            "Epoch  35 | Train Loss: 126.67826154828072\n",
            "=========> Train acc: 0.965 | Test acc: 0.479\n",
            "Epoch  36 | Train Loss: 126.01799447089434\n",
            "=========> Train acc: 0.963 | Test acc: 0.421\n",
            "Epoch  37 | Train Loss: 114.70073621720076\n",
            "=========> Train acc: 0.973 | Test acc: 0.464\n",
            "Epoch  38 | Train Loss: 111.0964971408248\n",
            "=========> Train acc: 0.978 | Test acc: 0.465\n",
            "Epoch  39 | Train Loss: 96.54770155996084\n",
            "=========> Train acc: 0.979 | Test acc: 0.474\n",
            "Epoch  40 | Train Loss: 106.10258920863271\n",
            "=========> Train acc: 0.979 | Test acc: 0.462\n",
            "Epoch  41 | Train Loss: 98.61741356179118\n",
            "=========> Train acc: 0.985 | Test acc: 0.455\n",
            "Epoch  42 | Train Loss: 85.10533628612757\n",
            "=========> Train acc: 0.987 | Test acc: 0.440\n",
            "Epoch  43 | Train Loss: 84.70405806228518\n",
            "=========> Train acc: 0.986 | Test acc: 0.469\n",
            "Epoch  44 | Train Loss: 77.99245789647102\n",
            "=========> Train acc: 0.981 | Test acc: 0.428\n",
            "Epoch  45 | Train Loss: 82.05498255416751\n",
            "=========> Train acc: 0.989 | Test acc: 0.448\n",
            "Epoch  46 | Train Loss: 74.71663393452764\n",
            "=========> Train acc: 0.984 | Test acc: 0.480\n",
            "Epoch  47 | Train Loss: 70.56856851652265\n",
            "=========> Train acc: 0.992 | Test acc: 0.460\n",
            "Epoch  48 | Train Loss: 64.33568313717842\n",
            "=========> Train acc: 0.993 | Test acc: 0.440\n",
            "Epoch  49 | Train Loss: 71.43261765874922\n",
            "=========> Train acc: 0.987 | Test acc: 0.451\n"
          ]
        }
      ]
    },
    {
      "cell_type": "markdown",
      "source": [
        "### train과 test의 acc를 plot 표시"
      ],
      "metadata": {
        "id": "Kgcq7FH4SsBY"
      }
    },
    {
      "cell_type": "code",
      "source": [
        "import numpy as np\n",
        "#Epoch에 따른 SGD와 Adam optimizer의 trainSet에 대한 model의 정확도를 다음 코드를 사용하여 plot하는 함수\n",
        "def plot_acc(trainloader_acc, testloader_acc, label1='train', label2='test'):\n",
        "  x = np.arange(len(trainloader_acc))\n",
        "\n",
        "  plt.plot(x, trainloader_acc, label=label1)\n",
        "  plt.plot(x, testloader_acc, label=label2)\n",
        "  plt.legend()\n",
        "  plt.show()\n",
        "\n",
        "# plot하는 함수 사용\n",
        "plot_acc(train_acc_list, test_acc_list)"
      ],
      "metadata": {
        "id": "CMPcWhgYSsBY",
        "colab": {
          "base_uri": "https://localhost:8080/",
          "height": 430
        },
        "outputId": "2dd7e9a5-db60-4349-e707-4713ae0446a2"
      },
      "execution_count": 12,
      "outputs": [
        {
          "output_type": "display_data",
          "data": {
            "text/plain": [
              "<Figure size 640x480 with 1 Axes>"
            ],
            "image/png": "[encoded data removed]"
          },
          "metadata": {}
        }
      ]
    },
    {
      "cell_type": "markdown",
      "source": [
        "### 분석\n",
        "위의 표로 보아 10 epoch 이후에는 train데이터 셋에 과적합하는 현상을 보이며, test셋의 정확도가 떨어지는 현상이 보인다."
      ],
      "metadata": {
        "id": "eG3Rg9kw6zLp"
      }
    },
    {
      "cell_type": "markdown",
      "source": [
        "## 성능 개선을 위한 내부 차원 변경 시도\n",
        "( 차원 32 -> 64로 변경 )"
      ],
      "metadata": {
        "id": "KmYOvjcX8GcV"
      }
    },
    {
      "cell_type": "code",
      "source": [
        "from torch.optim import Adam\n",
        "\n",
        "model = TextClassifier(len(tokenizer), 64, 5, 64, 4) #  차원 32 -> 64로 변경\n",
        "\n",
        "lr = 0.001\n",
        "model = model.to('cuda')\n",
        "loss_fn = nn.CrossEntropyLoss()\n",
        "\n",
        "optimizer = Adam(model.parameters(), lr=lr)"
      ],
      "metadata": {
        "id": "Ejv_5fBt8GcV"
      },
      "execution_count": 25,
      "outputs": []
    },
    {
      "cell_type": "code",
      "source": [
        "import numpy as np\n",
        "import matplotlib.pyplot as plt\n",
        "\n",
        "\n",
        "def accuracy(model, dataloader):\n",
        "  cnt = 0\n",
        "  acc = 0\n",
        "\n",
        "  for data in dataloader:\n",
        "    inputs, labels = data\n",
        "    inputs, labels = inputs.to('cuda'), labels.to('cuda')\n",
        "\n",
        "    preds = model(inputs)\n",
        "    preds = torch.argmax(preds, dim=-1)\n",
        "    # preds = (preds > 0).long()[..., 0]\n",
        "\n",
        "    cnt += labels.shape[0]\n",
        "    acc += (labels == preds).sum().item()\n",
        "\n",
        "  return acc / cnt"
      ],
      "metadata": {
        "id": "K-4xgHdt8GcV"
      },
      "execution_count": 26,
      "outputs": []
    },
    {
      "cell_type": "markdown",
      "source": [
        "## 학습"
      ],
      "metadata": {
        "id": "AVIusFuS8GcV"
      }
    },
    {
      "cell_type": "code",
      "source": [
        "n_epochs = 50\n",
        "train_acc_list64 = []\n",
        "test_acc_list64 = []\n",
        "for epoch in range(n_epochs):\n",
        "  total_loss = 0.\n",
        "  model.train()\n",
        "  for data in train_loader:\n",
        "    model.zero_grad()\n",
        "    inputs, labels = data\n",
        "    inputs, labels = inputs.to('cuda'), labels.to('cuda')\n",
        "\n",
        "    preds = model(inputs)\n",
        "    loss = loss_fn(preds, labels)\n",
        "    loss.backward()\n",
        "    optimizer.step()\n",
        "\n",
        "    total_loss += loss.item()\n",
        "\n",
        "  print(f\"Epoch {epoch:3d} | Train Loss: {total_loss}\")\n",
        "\n",
        "  with torch.no_grad():\n",
        "    model.eval()\n",
        "    train_acc = accuracy(model, train_loader)\n",
        "    test_acc = accuracy(model, test_loader)\n",
        "    train_acc_list64.append(train_acc)\n",
        "    test_acc_list64.append(test_acc)\n",
        "    print(f\"=========> Train acc: {train_acc:.3f} | Test acc: {test_acc:.3f}\")"
      ],
      "metadata": {
        "colab": {
          "base_uri": "https://localhost:8080/"
        },
        "id": "5nGAe3MF8GcV",
        "outputId": "60382470-723c-43b5-9a39-528ae49bedfd"
      },
      "execution_count": 27,
      "outputs": [
        {
          "output_type": "stream",
          "name": "stdout",
          "text": [
            "Epoch   0 | Train Loss: 1407.0731209516525\n",
            "=========> Train acc: 0.558 | Test acc: 0.563\n",
            "Epoch   1 | Train Loss: 1088.7366757392883\n",
            "=========> Train acc: 0.558 | Test acc: 0.562\n",
            "Epoch   2 | Train Loss: 1038.3105891942978\n",
            "=========> Train acc: 0.557 | Test acc: 0.549\n",
            "Epoch   3 | Train Loss: 1010.2134908437729\n",
            "=========> Train acc: 0.568 | Test acc: 0.565\n",
            "Epoch   4 | Train Loss: 984.9803314208984\n",
            "=========> Train acc: 0.571 | Test acc: 0.550\n",
            "Epoch   5 | Train Loss: 961.4214934110641\n",
            "=========> Train acc: 0.575 | Test acc: 0.562\n",
            "Epoch   6 | Train Loss: 938.6579290628433\n",
            "=========> Train acc: 0.580 | Test acc: 0.559\n",
            "Epoch   7 | Train Loss: 915.8488150835037\n",
            "=========> Train acc: 0.579 | Test acc: 0.555\n",
            "Epoch   8 | Train Loss: 891.4991308450699\n",
            "=========> Train acc: 0.587 | Test acc: 0.559\n",
            "Epoch   9 | Train Loss: 866.906555891037\n",
            "=========> Train acc: 0.589 | Test acc: 0.555\n",
            "Epoch  10 | Train Loss: 838.7794990539551\n",
            "=========> Train acc: 0.592 | Test acc: 0.552\n",
            "Epoch  11 | Train Loss: 810.4736860990524\n",
            "=========> Train acc: 0.600 | Test acc: 0.544\n",
            "Epoch  12 | Train Loss: 783.4423356056213\n",
            "=========> Train acc: 0.604 | Test acc: 0.545\n",
            "Epoch  13 | Train Loss: 747.5502525568008\n",
            "=========> Train acc: 0.616 | Test acc: 0.527\n",
            "Epoch  14 | Train Loss: 715.9314861297607\n",
            "=========> Train acc: 0.639 | Test acc: 0.522\n",
            "Epoch  15 | Train Loss: 674.5444593429565\n",
            "=========> Train acc: 0.654 | Test acc: 0.511\n",
            "Epoch  16 | Train Loss: 639.1699212789536\n",
            "=========> Train acc: 0.677 | Test acc: 0.526\n",
            "Epoch  17 | Train Loss: 598.0122979879379\n",
            "=========> Train acc: 0.701 | Test acc: 0.520\n",
            "Epoch  18 | Train Loss: 558.783282160759\n",
            "=========> Train acc: 0.726 | Test acc: 0.528\n",
            "Epoch  19 | Train Loss: 520.9456979036331\n",
            "=========> Train acc: 0.747 | Test acc: 0.511\n",
            "Epoch  20 | Train Loss: 479.6028876900673\n",
            "=========> Train acc: 0.773 | Test acc: 0.509\n",
            "Epoch  21 | Train Loss: 442.36898136138916\n",
            "=========> Train acc: 0.782 | Test acc: 0.523\n",
            "Epoch  22 | Train Loss: 412.114359498024\n",
            "=========> Train acc: 0.792 | Test acc: 0.491\n",
            "Epoch  23 | Train Loss: 376.4421476125717\n",
            "=========> Train acc: 0.818 | Test acc: 0.514\n",
            "Epoch  24 | Train Loss: 348.0729056894779\n",
            "=========> Train acc: 0.828 | Test acc: 0.487\n",
            "Epoch  25 | Train Loss: 323.26076233386993\n",
            "=========> Train acc: 0.852 | Test acc: 0.481\n",
            "Epoch  26 | Train Loss: 300.4354273378849\n",
            "=========> Train acc: 0.859 | Test acc: 0.489\n",
            "Epoch  27 | Train Loss: 274.0080827474594\n",
            "=========> Train acc: 0.861 | Test acc: 0.491\n",
            "Epoch  28 | Train Loss: 249.36874690651894\n",
            "=========> Train acc: 0.894 | Test acc: 0.490\n",
            "Epoch  29 | Train Loss: 231.78073358535767\n",
            "=========> Train acc: 0.898 | Test acc: 0.495\n",
            "Epoch  30 | Train Loss: 222.76566728949547\n",
            "=========> Train acc: 0.904 | Test acc: 0.493\n",
            "Epoch  31 | Train Loss: 200.82395920157433\n",
            "=========> Train acc: 0.918 | Test acc: 0.489\n",
            "Epoch  32 | Train Loss: 191.1279565691948\n",
            "=========> Train acc: 0.925 | Test acc: 0.486\n",
            "Epoch  33 | Train Loss: 183.30187612771988\n",
            "=========> Train acc: 0.926 | Test acc: 0.497\n",
            "Epoch  34 | Train Loss: 171.2087727934122\n",
            "=========> Train acc: 0.932 | Test acc: 0.466\n",
            "Epoch  35 | Train Loss: 164.4381439462304\n",
            "=========> Train acc: 0.930 | Test acc: 0.483\n",
            "Epoch  36 | Train Loss: 154.04178929328918\n",
            "=========> Train acc: 0.946 | Test acc: 0.479\n",
            "Epoch  37 | Train Loss: 164.19369504600763\n",
            "=========> Train acc: 0.935 | Test acc: 0.465\n",
            "Epoch  38 | Train Loss: 141.3450202718377\n",
            "=========> Train acc: 0.942 | Test acc: 0.479\n",
            "Epoch  39 | Train Loss: 138.058122061193\n",
            "=========> Train acc: 0.952 | Test acc: 0.479\n",
            "Epoch  40 | Train Loss: 128.73579571396112\n",
            "=========> Train acc: 0.955 | Test acc: 0.481\n",
            "Epoch  41 | Train Loss: 123.74311361461878\n",
            "=========> Train acc: 0.946 | Test acc: 0.487\n",
            "Epoch  42 | Train Loss: 116.38014874607325\n",
            "=========> Train acc: 0.963 | Test acc: 0.473\n",
            "Epoch  43 | Train Loss: 114.37637590244412\n",
            "=========> Train acc: 0.960 | Test acc: 0.471\n",
            "Epoch  44 | Train Loss: 109.65356054902077\n",
            "=========> Train acc: 0.970 | Test acc: 0.479\n",
            "Epoch  45 | Train Loss: 107.8267517350614\n",
            "=========> Train acc: 0.951 | Test acc: 0.461\n",
            "Epoch  46 | Train Loss: 102.54223355650902\n",
            "=========> Train acc: 0.964 | Test acc: 0.492\n",
            "Epoch  47 | Train Loss: 103.64068316668272\n",
            "=========> Train acc: 0.969 | Test acc: 0.464\n",
            "Epoch  48 | Train Loss: 105.45990116894245\n",
            "=========> Train acc: 0.971 | Test acc: 0.482\n",
            "Epoch  49 | Train Loss: 99.23739790171385\n",
            "=========> Train acc: 0.951 | Test acc: 0.511\n"
          ]
        }
      ]
    },
    {
      "cell_type": "markdown",
      "source": [
        "### train과 test의 acc를 plot 표시"
      ],
      "metadata": {
        "id": "15gEZIjH8GcW"
      }
    },
    {
      "cell_type": "code",
      "source": [
        "import numpy as np\n",
        "#Epoch에 따른 SGD와 Adam optimizer의 trainSet에 대한 model의 정확도를 다음 코드를 사용하여 plot하는 함수\n",
        "def plot_acc(trainloader_acc, testloader_acc, label1='train', label2='test'):\n",
        "  x = np.arange(len(trainloader_acc))\n",
        "\n",
        "  plt.plot(x, trainloader_acc, label=label1)\n",
        "  plt.plot(x, testloader_acc, label=label2)\n",
        "  plt.legend()\n",
        "  plt.show()\n",
        "\n",
        "# plot하는 함수 사용\n",
        "plot_acc(train_acc_list64, test_acc_list64)"
      ],
      "metadata": {
        "colab": {
          "base_uri": "https://localhost:8080/",
          "height": 430
        },
        "id": "OFCIO1MH8GcW",
        "outputId": "4d42ba3b-33b4-4ac0-a64f-4c6ebfdc90e9"
      },
      "execution_count": 28,
      "outputs": [
        {
          "output_type": "display_data",
          "data": {
            "text/plain": [
              "<Figure size 640x480 with 1 Axes>"
            ],
            "image/png": "[encoded data removed]"
          },
          "metadata": {}
        }
      ]
    },
    {
      "cell_type": "markdown",
      "source": [
        "### 분석\n",
        "모델의 차원을 32-> 64 늘렸지만 이전에 32 차원이랑 거의 비슷하게 위의 표처럼 10 epoch 이후에는 train데이터 셋에 과적합하는 현상을 보이며, test셋의 정확도가 떨어지는 현상이 보인다.\n",
        "\n",
        "### 추후 과제\n",
        "시간 관계상 더 테스트를 해보지는 못 했지만 더 높은 차원을 이용하여 테스트 또는 다른 파라미터도 조절하여 test성능을 높이는데 시도를 해보아야 할 것 같다.\n"
      ],
      "metadata": {
        "id": "0Mar5FFy6nEJ"
      }
    }
  ],
  "metadata": {
    "accelerator": "GPU",
    "colab": {
      "gpuType": "A100",
      "provenance": [],
      "include_colab_link": true
    },
    "kernelspec": {
      "display_name": "Python 3",
      "name": "python3"
    },
    "language_info": {
      "codemirror_mode": {
        "name": "ipython",
        "version": 3
      },
      "file_extension": ".py",
      "mimetype": "text/x-python",
      "name": "python",
      "nbconvert_exporter": "python",
      "pygments_lexer": "ipython3",
      "version": "3.10.14"
    }
  },
  "nbformat": 4,
  "nbformat_minor": 0
}